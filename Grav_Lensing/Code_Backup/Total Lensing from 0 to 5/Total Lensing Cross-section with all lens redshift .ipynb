{
 "cells": [
  {
   "cell_type": "code",
   "execution_count": 1,
   "metadata": {},
   "outputs": [],
   "source": [
    "%matplotlib inline \n",
    "import numpy as np\n",
    "import pandas as pd \n",
    "import scipy as sp\n",
    "import matplotlib.pyplot as plt \n",
    "import seaborn as sns \n",
    "sns.set_style(\"darkgrid\")"
   ]
  },
  {
   "cell_type": "markdown",
   "metadata": {},
   "source": [
    "# Halo Mass Function \n",
    "We used the online HMF calculator to get the halo mass distribution at different redshift (website: http://hmf.icrar.org)\n",
    "\n",
    "In here, we extract the data of halo mass function when $z = 0.5, 2, 4$. The data is shown as below. With the data of comoving number density of halo mass per unit mass and corresponding halo mass at certain redshift, we may use this information to calculate the total lensing cross-section. In here, we used Pandas to read the files which are downloaded in HMFcalc. "
   ]
  },
  {
   "cell_type": "code",
   "execution_count": 2,
   "metadata": {},
   "outputs": [],
   "source": [
    "hmf_00= pd.read_csv(\"z_00.txt\",skiprows=range(12), sep=' ',\n",
    "            names=['m', 'sigma', 'ln(1/sigma)', 'n_eff', 'f(sigma)', 'dn/dm', 'dn/dlnm', 'dn/dlog10m', 'n(>m)',\n",
    "                   'rho(>m)', 'rho(<m)', 'Lbox(N=1)'])\n",
    "\n",
    "# hmf_05= pd.read_csv(\"z_05.txt\",skiprows=range(12), sep=' ',\n",
    "#             names=['m', 'sigma', 'ln(1/sigma)', 'n_eff', 'f(sigma)', 'dn/dm', 'dn/dlnm', 'dn/dlog10m', 'n(>m)',\n",
    "#                    'rho(>m)', 'rho(<m)', 'Lbox(N=1)'])\n",
    "\n",
    "\n",
    "# hmf_10= pd.read_csv(\"z_10.txt\",skiprows=range(12), sep=' ',\n",
    "#             names=['m', 'sigma', 'ln(1/sigma)', 'n_eff', 'f(sigma)', 'dn/dm', 'dn/dlnm', 'dn/dlog10m', 'n(>m)',\n",
    "#                    'rho(>m)', 'rho(<m)', 'Lbox(N=1)'])\n",
    "\n",
    "# hmf_15= pd.read_csv(\"z_15.txt\",skiprows=range(12), sep=' ',\n",
    "#             names=['m', 'sigma', 'ln(1/sigma)', 'n_eff', 'f(sigma)', 'dn/dm', 'dn/dlnm', 'dn/dlog10m', 'n(>m)',\n",
    "#                    'rho(>m)', 'rho(<m)', 'Lbox(N=1)'])\n",
    "\n",
    "# hmf_20= pd.read_csv(\"z_20.txt\",skiprows=range(12), sep=' ',\n",
    "#             names=['m', 'sigma', 'ln(1/sigma)', 'n_eff', 'f(sigma)', 'dn/dm', 'dn/dlnm', 'dn/dlog10m', 'n(>m)',\n",
    "#                    'rho(>m)', 'rho(<m)', 'Lbox(N=1)'])\n",
    "\n",
    "# hmf_25= pd.read_csv(\"z_25.txt\",skiprows=range(12), sep=' ',\n",
    "#             names=['m', 'sigma', 'ln(1/sigma)', 'n_eff', 'f(sigma)', 'dn/dm', 'dn/dlnm', 'dn/dlog10m', 'n(>m)',\n",
    "#                    'rho(>m)', 'rho(<m)', 'Lbox(N=1)'])\n",
    "\n",
    "# hmf_30= pd.read_csv(\"z_30.txt\",skiprows=range(12), sep=' ',\n",
    "#             names=['m', 'sigma', 'ln(1/sigma)', 'n_eff', 'f(sigma)', 'dn/dm', 'dn/dlnm', 'dn/dlog10m', 'n(>m)',\n",
    "#                    'rho(>m)', 'rho(<m)', 'Lbox(N=1)'])\n",
    "\n",
    "# hmf_35= pd.read_csv(\"z_35.txt\",skiprows=range(12), sep=' ',\n",
    "#             names=['m', 'sigma', 'ln(1/sigma)', 'n_eff', 'f(sigma)', 'dn/dm', 'dn/dlnm', 'dn/dlog10m', 'n(>m)',\n",
    "#                    'rho(>m)', 'rho(<m)', 'Lbox(N=1)'])\n",
    "\n",
    "# hmf_40= pd.read_csv(\"z_40.txt\",skiprows=range(12), sep=' ',\n",
    "#             names=['m', 'sigma', 'ln(1/sigma)', 'n_eff', 'f(sigma)', 'dn/dm', 'dn/dlnm', 'dn/dlog10m', 'n(>m)',\n",
    "#                    'rho(>m)', 'rho(<m)', 'Lbox(N=1)'])\n",
    "\n",
    "# hmf_45= pd.read_csv(\"z_45.txt\",skiprows=range(12), sep=' ',\n",
    "#             names=['m', 'sigma', 'ln(1/sigma)', 'n_eff', 'f(sigma)', 'dn/dm', 'dn/dlnm', 'dn/dlog10m', 'n(>m)',\n",
    "#                    'rho(>m)', 'rho(<m)', 'Lbox(N=1)'])\n",
    "\n",
    "# hmf_50= pd.read_csv(\"z_50.txt\",skiprows=range(12), sep=' ',\n",
    "#             names=['m', 'sigma', 'ln(1/sigma)', 'n_eff', 'f(sigma)', 'dn/dm', 'dn/dlnm', 'dn/dlog10m', 'n(>m)',\n",
    "#                    'rho(>m)', 'rho(<m)', 'Lbox(N=1)'])"
   ]
  },
  {
   "cell_type": "code",
   "execution_count": 3,
   "metadata": {},
   "outputs": [],
   "source": [
    "m_00 = hmf_00[\"m\"]\n",
    "dndm_00 = hmf_00[\"dn/dm\"]\n",
    "dndlnm_00 = hmf_00[\"dn/dlnm\"]"
   ]
  },
  {
   "cell_type": "code",
   "execution_count": 9,
   "metadata": {},
   "outputs": [],
   "source": [
    "def dlnm(m):\n",
    "    dM = np.append(np.array([np.log(m[i+1])-np.log(m[i]) for i in range(0,len(m)-1)]), np.array([np.log(m[11])-np.log(m[10])]))\n",
    "    return dM\n",
    "\n",
    "def dm(m):\n",
    "    dM = np.append(np.array([m[i+1]-m[i] for i in range(0,len(m)-1)]), np.array([0]))\n",
    "    return dM"
   ]
  },
  {
   "cell_type": "code",
   "execution_count": 10,
   "metadata": {},
   "outputs": [
    {
     "data": {
      "text/plain": [
       "0     2.484550e-02\n",
       "1     2.244066e-02\n",
       "2     2.026891e-02\n",
       "3     1.830895e-02\n",
       "4     1.653967e-02\n",
       "          ...     \n",
       "95    2.460775e-07\n",
       "96    1.905228e-07\n",
       "97    1.456581e-07\n",
       "98    1.098776e-07\n",
       "99    0.000000e+00\n",
       "Name: dn/dm, Length: 100, dtype: float64"
      ]
     },
     "execution_count": 10,
     "metadata": {},
     "output_type": "execute_result"
    }
   ],
   "source": [
    "dndm_00*dm(m_00)"
   ]
  },
  {
   "cell_type": "code",
   "execution_count": 11,
   "metadata": {},
   "outputs": [
    {
     "data": {
      "text/plain": [
       "0     2.344272e-02\n",
       "1     2.117366e-02\n",
       "2     1.912452e-02\n",
       "3     1.727522e-02\n",
       "4     1.560584e-02\n",
       "          ...     \n",
       "95    2.321839e-07\n",
       "96    1.797658e-07\n",
       "97    1.374342e-07\n",
       "98    1.036739e-07\n",
       "99    7.705328e-08\n",
       "Name: dn/dlnm, Length: 100, dtype: float64"
      ]
     },
     "execution_count": 11,
     "metadata": {},
     "output_type": "execute_result"
    }
   ],
   "source": [
    "dndlnm_00*dlnm(m_00)"
   ]
  },
  {
   "cell_type": "code",
   "execution_count": 14,
   "metadata": {},
   "outputs": [],
   "source": [
    "# Halo mass and its comoving number density per mass at z= 0.1\n",
    "# m_00 = hmf_00[\"m\"]\n",
    "# dndm_00 = hmf_00[\"dn/dm\"]\n",
    "\n",
    "# m_05 = hmf_05[\"m\"]\n",
    "# dndm_05 = hmf_05[\"dn/dm\"]\n",
    "\n",
    "# m_10 = hmf_10[\"m\"]\n",
    "# dndm_10 = hmf_10[\"dn/dm\"]\n",
    "\n",
    "# m_15 = hmf_15[\"m\"]\n",
    "# dndm_15 = hmf_15[\"dn/dm\"]\n",
    "\n",
    "# m_20 = hmf_20[\"m\"]\n",
    "# dndm_20 = hmf_00[\"dn/dm\"]\n",
    "\n",
    "# m_25 = hmf_25[\"m\"]\n",
    "# dndm_25 = hmf_25[\"dn/dm\"]\n",
    "\n",
    "# m_30 = hmf_30[\"m\"]\n",
    "# dndm_30 = hmf_30[\"dn/dm\"]\n",
    "\n",
    "# m_35 = hmf_35[\"m\"]\n",
    "# dndm_35 = hmf_35[\"dn/dm\"]\n",
    "\n",
    "# m_40 = hmf_40[\"m\"]\n",
    "# dndm_40 = hmf_40[\"dn/dm\"]\n",
    "\n",
    "# m_45 = hmf_45[\"m\"]\n",
    "# dndm_45 = hmf_45[\"dn/dm\"]\n",
    "\n",
    "# m_50 = hmf_50[\"m\"]\n",
    "# dndm_50 = hmf_50[\"dn/dm\"]"
   ]
  },
  {
   "cell_type": "code",
   "execution_count": 105,
   "metadata": {},
   "outputs": [],
   "source": [
    "# Astropy testing total lensing cross section \n",
    "import astropy \n",
    "from astropy.constants import c, G\n",
    "from astropy.cosmology import FlatLambdaCDM, z_at_value\n",
    "import astropy.units as u\n",
    "cosmo = FlatLambdaCDM(H0=70*u.km/u.s/u.Mpc, Om0=0.3)\n",
    "H_0 = cosmo.H(0)\n",
    "\n",
    "def Hubble(z): \n",
    "    return H_0*np.sqrt(0.3*(1+z)**3 + 0.7)\n",
    "\n",
    "#Assume Virial mass\n",
    "def r_200(m,z): \n",
    "    return (m*G/(100*Hubble(z)**2))**(1/3)\n",
    "\n",
    "# Differential Mass\n",
    "def dm(m):\n",
    "    dM = np.append(np.array([0]),np.array([m[i+1]-m[i] for i in range(0,len(m)-1)]))\n",
    "    return dM\n",
    "\n",
    "# total lensing cross secion ( treat mu_{0} is constant )\n",
    "def total_cross_sec(m,dndm,zl,zs):\n",
    "    # append dm for correction \n",
    "    # append the constant in front of cross-section (28/4)\n",
    "    cross_sec = (8*np.pi**3*G**2*c**-4)*dm(m)*dndm*(m/r_200(m=m,z=zl)*(cosmo.angular_diameter_distance_z1z2(zl,zs)/cosmo.angular_diameter_distance(zs)))**2\n",
    "    return np.sum(np.asarray(cross_sec))\n",
    "\n",
    "\n",
    "# Maginification of Gravotational waves \n",
    "def mu_gw(zs):\n",
    "    # zs > 0.3 by computation\n",
    "    return (cosmo.luminosity_distance(zs)/cosmo.luminosity_distance(0.1))**2 \n",
    "\n",
    "# with magnification lensing cross-sec\n",
    "def cs_source(m,dndm,zl,zs):\n",
    "    return np.array([mu_gw(i)**-4*total_cross_sec(m,dndm,zl,i) for i in zs])\n",
    "\n",
    "def cs_image(m,dndm,zl,zs):\n",
    "    return np.array([mu_gw(i)**-2*total_cross_sec(m,dndm,zl,i) for i in zs])"
   ]
  },
  {
   "cell_type": "code",
   "execution_count": 106,
   "metadata": {},
   "outputs": [],
   "source": [
    "# Source of lensed Gws \n",
    "zs = 10"
   ]
  },
  {
   "cell_type": "code",
   "execution_count": 107,
   "metadata": {},
   "outputs": [],
   "source": [
    "m = np.asarray([m_00,m_05,m_10, m_15,m_20,m_25,m_30,m_35,m_40,m_45,m_50])\n",
    "dndm = np.asarray([dndm_00, dndm_05,dndm_10, dndm_15,dndm_20,dndm_25,dndm_30,dndm_35,dndm_40,dndm_45,dndm_50])\n"
   ]
  },
  {
   "cell_type": "code",
   "execution_count": 108,
   "metadata": {},
   "outputs": [],
   "source": [
    "def cs_total_zL(m,dndm,zs):\n",
    "    cs = np.zeros(100)\n",
    "    for i in range(0,len(m)):\n",
    "        cs += cs_image(m[i],dndm[i],0.5*(i+1),zs)\n",
    "    return cs"
   ]
  },
  {
   "cell_type": "code",
   "execution_count": 100,
   "metadata": {},
   "outputs": [],
   "source": [
    "#cs_total_zL(m = m,dndm =dndm,zs = np.linspace(0.01,zs,100))"
   ]
  },
  {
   "cell_type": "code",
   "execution_count": 110,
   "metadata": {},
   "outputs": [
    {
     "data": {
      "image/png": "[encoded data removed]",
      "text/plain": [
       "<Figure size 432x288 with 1 Axes>"
      ]
     },
     "metadata": {},
     "output_type": "display_data"
    }
   ],
   "source": [
    "plt.title(r\" Total Cross-section $\\sigma^{I}(z_{S})$ vs source redshift $z_{S}$\")\n",
    "plt.ylabel(r\" Total lensing cross section\")\n",
    "plt.xlabel(r\" Source redshift $z_{S}$\")\n",
    "\n",
    "plt.plot(np.linspace(0,zs,100), cs_total_zL(m = m,dndm =dndm,zs = np.linspace(0.01,zs,100)), label=r\"$z_{S}$ = 10\")\n",
    "plt.yscale(\"log\")\n",
    "plt.legend()\n",
    "plt.savefig(\"total_cross_sec_all_zl.pdf\")"
   ]
  },
  {
   "cell_type": "code",
   "execution_count": null,
   "metadata": {},
   "outputs": [],
   "source": []
  },
  {
   "cell_type": "code",
   "execution_count": null,
   "metadata": {},
   "outputs": [],
   "source": []
  }
 ],
 "metadata": {
  "kernelspec": {
   "display_name": "Python 3",
   "language": "python",
   "name": "python3"
  },
  "language_info": {
   "codemirror_mode": {
    "name": "ipython",
    "version": 3
   },
   "file_extension": ".py",
   "mimetype": "text/x-python",
   "name": "python",
   "nbconvert_exporter": "python",
   "pygments_lexer": "ipython3",
   "version": "3.7.3"
  }
 },
 "nbformat": 4,
 "nbformat_minor": 4
}
