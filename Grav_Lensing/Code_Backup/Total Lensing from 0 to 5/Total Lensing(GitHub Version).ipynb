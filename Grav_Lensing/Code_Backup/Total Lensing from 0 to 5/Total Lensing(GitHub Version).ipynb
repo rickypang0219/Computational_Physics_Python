{
 "cells": [
  {
   "cell_type": "code",
   "execution_count": 3,
   "metadata": {},
   "outputs": [],
   "source": [
    "%matplotlib inline \n",
    "import numpy as np\n",
    "import pandas as pd \n",
    "import scipy\n",
    "import scipy.integrate as integrate\n",
    "import matplotlib.pyplot as plt \n",
    "from mpl_toolkits.mplot3d import Axes3D\n",
    "import seaborn as sns \n",
    "import colossus\n",
    "import numba as nb\n",
    "sns.set_style(\"darkgrid\")"
   ]
  },
  {
   "cell_type": "markdown",
   "metadata": {},
   "source": [
    "# Halo Mass Function \n",
    "We used the online HMF calculator to get the halo mass distribution at different redshift (website: http://hmf.icrar.org)\n",
    "\n",
    "In here, we extract the data of halo mass function when $z = 0.5, 2, 4$. The data is shown as below. With the data of comoving number density of halo mass per unit mass and corresponding halo mass at certain redshift, we may use this information to calculate the total lensing cross-section. In here, we used Pandas to read the files which are downloaded in HMFcalc. "
   ]
  },
  {
   "cell_type": "code",
   "execution_count": 129,
   "metadata": {},
   "outputs": [],
   "source": [
    "hmf_00= pd.read_csv(\"tinker_08_z_00.txt\",skiprows=range(12), sep=' ',\n",
    "            names=['m', 'sigma', 'ln(1/sigma)', 'n_eff', 'f(sigma)', 'dn/dm', 'dn/dlnm', 'dn/dlog10m', 'n(>m)',\n",
    "                   'rho(>m)', 'rho(<m)', 'Lbox(N=1)'])"
   ]
  },
  {
   "cell_type": "code",
   "execution_count": 131,
   "metadata": {},
   "outputs": [],
   "source": [
    "m = hmf_00[\"m\"]"
   ]
  },
  {
   "cell_type": "markdown",
   "metadata": {},
   "source": [
    "# Colossus: Generating Halo Mass Function for Different Redshifts\n",
    "In this code, we use Colossus to generate the halo mass function at different redshifts. When we calculate the total lensing cross-section, we need to know the number of available lenses in the universe at a particular instance. Therefore, we need to use Colossus to generate a comoving number density of haloes per its mass in redshift $z_{L}$ for a given mass range. \n",
    "\n",
    "website of Colossus: http://www.benediktdiemer.com/code/colossus/"
   ]
  },
  {
   "cell_type": "code",
   "execution_count": 5,
   "metadata": {},
   "outputs": [],
   "source": [
    "from colossus.cosmology import cosmology\n",
    "from colossus.lss import mass_function\n",
    "\n",
    "cosmology.setCosmology('planck13')\n",
    "mfunc_fof = mass_function.massFunction(m,z =0.0 , q_in= \"M\", q_out=\"dndlnM\", mdef='vir', model = 'tinker08')"
   ]
  },
  {
   "cell_type": "markdown",
   "metadata": {},
   "source": [
    "# Total Lensing Cross-section\n",
    "\n",
    "The total lensing cross-section is given by the sum of available lenses at the universe at particular instant and its cross-section. Therefore, we need to (total number/ number density, etc) of available lenses at a certain redshift. In this code, we use the comoving number density of haloes per its logarithm of mass. In order to understand the total lensing cross-section for a source, we can imagine the physical picture as follow: \n",
    "\n",
    "Suppose we have a gravitational waves source from redshift $z_{S}$. When it is emitted from $z_{S}$, it will pass through the universe and approaching to us $z = 0$. However, during its propagation, it will pass through haloes in the universe, resulting in graviational lensing. Therefore, our job is to calculating the total lensing cross-section of gravitatinal waves source originates from $z_{S}$ which is the sum of the lensing cross-section of each hales at different lenses redshifts $z_{L} \\in (0, z_{S})$.The equation of total lensing cross-section is given by the follow: \n",
    "\\begin{equation}\n",
    "\\sigma^{S}_{total}(\\mu,z_{S}) =  \\frac{8 \\pi^{3} G^{2}}{c^{4}}\\frac{(\\mu_{0}^{2}+1)}{(\\mu_{0}^{2} -1)^{2}} \\int^{z_{S}}_{0} \\int_{\\Omega_{M}} \\frac{dn(M,z_{L})}{d \\ln{M}} \\Big( \\frac{M}{r_{200}} \\Big)^{2}\\Big( \\frac{d_{A}(z_{L},z_{S})}{d_{A}(z_{s})} \\Big)^{2} d\\ln{M} dV(z_{L})\n",
    "\\end{equation}\n",
    "$\\Omega_{M}$ is the integral domain of mass of available lenses in particular lens redshift $z_{L}$.  This lensing cross-section will tell us the relevant probability of a gravitational waves source in $z_{S}$ will be maginified by $\\mu$.\n",
    "\n",
    "In astropy Libary, we can call cosmo.differential_comoving_volume(z) to calculate the differential volume. However, the unit of differential comoving volume is in volume per solid angle per redshift. Therefore, when we need to calculate the integral of differential volume, we are in fact calculating this:\n",
    "\\begin{equation}\n",
    "dV = 4 \\pi \\Big(\\frac{dV}{d \\Omega dz} \\Big)_{astropy} dz\n",
    "\\end{equation}\n",
    "\n",
    "Hence, the equation becomes:\n",
    "\\begin{equation}\n",
    "\\sigma^{S}_{total}(\\mu,z_{S}) =  \\frac{8 \\pi^{3} G^{2}}{c^{4}}\\frac{(\\mu_{0}^{2}+1)}{(\\mu_{0}^{2} -1)^{2}} \\int^{z_{S}}_{0} \\int_{\\Omega_{M}} \\frac{dn(M,z_{L})}{d \\ln{M}} \\Big( \\frac{M}{r_{200}} \\Big)^{2}\\Big( \\frac{d_{A}(z_{L},z_{S})}{d_{A}(z_{s})} \\Big)^{2} d\\ln{M}  \\Big(4 \\pi \\Big(\\frac{dV}{dz_{L}} \\Big) \\Big)dz_{L}\n",
    "\\end{equation}"
   ]
  },
  {
   "cell_type": "code",
   "execution_count": 88,
   "metadata": {},
   "outputs": [],
   "source": [
    "# Using Astropy to calculate the total lensing cross section of source plane \n",
    "import astropy \n",
    "from astropy.cosmology import FlatLambdaCDM\n",
    "from astropy.cosmology import Planck15 as cosmo\n",
    "import astropy.units as u\n",
    "#cosmo = FlatLambdaCDM(H0=70*u.km/u.s/u.Mpc, Om0=0.3)\n",
    "c = 3E8\n",
    "G = 6.6748E-11\n",
    "H_0 = cosmo.H(0)\n",
    "from colossus.halo import mass_so\n",
    "\n",
    "def Hubble(z): \n",
    "    return H_0*np.sqrt(0.307*(1+z)**3 + 0.693)\n",
    "\n",
    "#Assume Virial mass\n",
    "def r_200(m,zl): \n",
    "    return (m*G/(100*Hubble(zl)**2))**(1/3)\n",
    "\n",
    "### Colossus R_200c \n",
    "def R_200c(m,zl):\n",
    "    #return np.array([mass_so.M_to_R(m, i, '200c') for i in zs])\n",
    "    return mass_so.M_to_R(m, zl, '200c')\n",
    "\n",
    "# Differential Mass\n",
    "def dlnm(m):\n",
    "    # Change 0 into last position inside array\n",
    "    dM = np.append(np.array([(np.log(m[i+1])-np.log(m[i]))/len(m) for i in range(0,len(m)-1)]), np.array([(np.log(m[11])-np.log(m[10]))/len(m)]))\n",
    "    return dM\n",
    "\n",
    "# Comoving Number density of Haloes per ln(Haloes Mass)\n",
    "def dndlnm(m,zl):\n",
    "    mfunc_fof = mass_function.massFunction(m,z=zl , q_in= \"M\", q_out=\"dndlnM\", mdef='200c', model = 'tinker08')\n",
    "    return mfunc_fof\n",
    "\n",
    "\n",
    "\n",
    "# total lensing cross secion (in dn/dlnm unit)\n",
    "def total_cross_sec(m,zl,zs):\n",
    "    # 2 for loops: \n",
    "    \n",
    "    ### We need to add a if statement that z_{L} < z_{S}\n",
    "    ### for a source in Z_{s}, the available lenses are in z_{L} < z_{S}, thus, we sum over the z_{l} from 0 to z_{S}\n",
    "    # For a particular lens redshift, we sum over all the contribution of these lenses\n",
    "    cross_sec = np.array([np.sum(np.asarray([(8*np.pi**3*G**2*c**-4)*dlnm(m)*dndlnm(m,i)*(m/R_200c(m=m,zl=i)*cosmo.comoving_volume(i)*(cosmo.angular_diameter_distance_z1z2(i,j)/cosmo.angular_diameter_distance(j)))**2\\\n",
    "                       for i in zl])) for j in zs])\n",
    "    return cross_sec\n",
    "\n",
    "\n",
    "### Total Cross-section: integrate all the available lenses \n",
    "# def cs(m,zs): \n",
    "#     ### USE R_200C instead of virial mass r_200\n",
    "#     ### Inner Loop: we integrate the total lens contribution in range zl \\in (0,zs) for a given zs ###\n",
    "#     ### Outer Loop: For each source redshift zs, we want to find the total lensing cross-section at zs ###\n",
    "#     cross_sec = np.array([np.sum(np.asarray([(8*np.pi**3*G**2*c**-4)*dlnm(m)*dndlnm(m,i)*cosmo.differential_comoving_volume(i)*(m/R_200c(m=m,zl=i))**2*((cosmo.angular_diameter_distance_z1z2(i,j)/cosmo.angular_diameter_distance(j)))**2\\\n",
    "#                        for i in np.linspace(0,j,len(zs))])) for j in zs])\n",
    "#     return cross_sec \n"
   ]
  },
  {
   "cell_type": "code",
   "execution_count": 89,
   "metadata": {},
   "outputs": [
    {
     "data": {
      "text/plain": [
       "5.500364819753086e-55"
      ]
     },
     "execution_count": 89,
     "metadata": {},
     "output_type": "execute_result"
    }
   ],
   "source": [
    "G**2*c**-4"
   ]
  },
  {
   "cell_type": "code",
   "execution_count": 126,
   "metadata": {},
   "outputs": [],
   "source": [
    "const = (32*np.pi**4*G**2*c**-4)\n",
    "\n",
    "def mu_gw(zs):\n",
    "    # zs > 0.3 by computation\n",
    "    return (cosmo.luminosity_distance(zs)/cosmo.luminosity_distance(0.15))**2 \n",
    "\n",
    "def sigma_4(m,zs):\n",
    "    array = np.zeros(1000)\n",
    "    k = 0\n",
    "    for i in np.linspace(0,zs,1000):\n",
    "        haloes = const*np.sum(dlnm(m)*dndlnm(m,i)*(m/R_200c(m,i))**2)\n",
    "        cs = cosmo.differential_comoving_volume(i)*(cosmo.angular_diameter_distance_z1z2(i,zs)/cosmo.angular_diameter_distance(zs))**2\n",
    "        array[k] = haloes*cs.value\n",
    "        k+= 1\n",
    "        # (mu_gw(zs)**2+1)*(mu_gw(zs)**2 - 1)**-2*\n",
    "    return np.sum(array)"
   ]
  },
  {
   "cell_type": "code",
   "execution_count": 128,
   "metadata": {},
   "outputs": [],
   "source": [
    "#sigma = np.array([sigma_4(m,i) for i in np.linspace(0.1,5,50)])"
   ]
  },
  {
   "cell_type": "code",
   "execution_count": null,
   "metadata": {},
   "outputs": [],
   "source": [
    "#plt.plot(mu_gw(np.linspace(0.15,5,50)), sigma)\n"
   ]
  },
  {
   "cell_type": "code",
   "execution_count": null,
   "metadata": {},
   "outputs": [],
   "source": [
    "### Total Cross-section: integrate all the available lenses \n",
    "\n",
    "\n",
    "# def cs(m,zs): \n",
    "#     ### integrate dV = 4*pi*dV*delta z, since dV in unit of volume per redshift per solid angle\n",
    "#     ### Use R_200C instead of virial mass r_200\n",
    "#     ### Inner sum ( sum over all the mass) ( appended in 3/5 )\n",
    "#     ### Inner Loop: we integrate the total lens contribution in range zl \\in (0,zs) for a given zs ###\n",
    "#     ### Outer Loop: For each source redshift zs, we want to find the total lensing cross-section at zs ###\n",
    "#     cross_sec = np.array([np.sum(np.asarray([(8*np.pi**3*G**2*c**-4)*np.sum(dlnm(m)*dndlnm(m,i))*\\\n",
    "#                                              (4*np.pi*cosmo.differential_comoving_volume(i)*j*len(zs)**-1)*\\\n",
    "#                                              (m/R_200c(m=m,zl=i))**2*\\\n",
    "#                                              ((cosmo.angular_diameter_distance_z1z2(i,j)/cosmo.angular_diameter_distance(j)))**2\\\n",
    "#                        for i in np.linspace(0,j,len(zs))])) for j in zs])\n",
    "    \n",
    "#     return cross_sec "
   ]
  },
  {
   "cell_type": "code",
   "execution_count": 8,
   "metadata": {},
   "outputs": [],
   "source": [
    "\n",
    "# ### For Loops method\n",
    "# def cs_1(m,zs): \n",
    "#     k = 0 \n",
    "#     array = np.zeros(len(zs))\n",
    "#     # Range of source redshift\n",
    "#     for j in zs: \n",
    "#         # for particular source redshift, we need to sum over the contribution of lenses z_{L} \\in (0,z_{S})\n",
    "#         TCS = 0\n",
    "#         for i in np.linspace(0,j,len(zs)):\n",
    "#             # Sum all lenses mass in particular z_{L}\n",
    "#             cs = np.sum((8*np.pi**3*G**2*c**-4)*dlnm(m)*dndlnm(m,i)*\\\n",
    "#                         (4*np.pi*cosmo.differential_comoving_volume(i)*len(zs)**-1)*(m/R_200c(m=m,zl=i))**2*\\\n",
    "#                         ((cosmo.angular_diameter_distance_z1z2(i,j)/cosmo.angular_diameter_distance(j)))**2)\n",
    "#             TCS+=cs   \n",
    "#         #print(TCS)\n",
    "#         array[k] = TCS\n",
    "#         ##print(array[k])\n",
    "#         k+=1\n",
    "#     return array\n",
    "            \n",
    "                   "
   ]
  },
  {
   "cell_type": "code",
   "execution_count": 50,
   "metadata": {},
   "outputs": [],
   "source": [
    "### another method using loops \n",
    "\n",
    "# def sigma_2(m,zs):\n",
    "#     const = 32*np.pi**4*G**2*c**-4\n",
    "#     zl = np.linspace(0,zs,1000)\n",
    "#     TCS = 0\n",
    "#     for i in range(len(zl)):\n",
    "#         ### summation of haloes density, dlnm, etc as a particular lenses redshift z_{L}\n",
    "#         haloes = np.sum(dndlnm(m,zl[i])*(m/R_200c(m,zl[i]))**2*dlnm(m))\n",
    "#         ### second summation of all lenses ranges from 0 to z_{S}, act as an integrtion of z_{L}\n",
    "#         delta_zl = (zs-0)/len(zl)\n",
    "#         cs = haloes*(cosmo.differential_comoving_volume(zl[i]).value)*\\\n",
    "#         ((cosmo.angular_diameter_distance_z1z2(zl[i],zs).value/cosmo.angular_diameter_distance(zs).value))**2*delta_zl\n",
    "#         TCS += cs\n",
    "#     return const*TCS"
   ]
  },
  {
   "cell_type": "code",
   "execution_count": 56,
   "metadata": {},
   "outputs": [],
   "source": [
    "### another method using loops\n",
    "\n",
    "# def sigma_3(m,zs):\n",
    "#     zl = np.linspace(0,zs,10000)\n",
    "#     return  32*np.pi**4*G**2*c**-4*np.sum(np.array([np.sum(dndlnm(m,i)*(m/R_200c(m,i))**2*dlnm(m))*\\\n",
    "#              (cosmo.differential_comoving_volume(i).value)*\\\n",
    "#              (cosmo.angular_diameter_distance_z1z2(i,zs).value/cosmo.angular_diameter_distance(zs).value)**2*\n",
    "#              zs*len(zl)**-1 for i in zl]))"
   ]
  },
  {
   "cell_type": "code",
   "execution_count": 48,
   "metadata": {},
   "outputs": [],
   "source": [
    "### integration version using Scipy\n",
    "\n",
    "# def sigma_integrate(m,zs):\n",
    "#     const = 32*np.pi**4*G**2*c**-4\n",
    "#     result = integrate.quad(lambda x:np.sum(dndlnm(m,x)*(m/R_200c(m,x)**2*dlnm(m))*\\\n",
    "#                             (cosmo.differential_comoving_volume(x).value)*\\\n",
    "#                             ((cosmo.angular_diameter_distance_z1z2(x,zs).value/cosmo.angular_diameter_distance(zs).value))**2)\n",
    "#                             , 0,zs)\n",
    "                            \n",
    "#     return const*result[0]\n",
    "\n",
    "\n",
    "\n",
    "\n",
    "#@nb.jit(nopython=True)\n",
    "def sigma_integrate(zs):\n",
    "    f = lambda m,x,zs: dndlnm(m,x)*(m/R_200c(m,x)**2)*\\\n",
    "                             (cosmo.differential_comoving_volume(x).value)*\\\n",
    "                             (cosmo.angular_diameter_distance_z1z2(x,zs).value/cosmo.angular_diameter_distance(zs).value)**2\n",
    "    return integrate.nquad(f, [[0.0, np.inf],[0.0001, zs]],args=[zs])[0]"
   ]
  },
  {
   "cell_type": "code",
   "execution_count": null,
   "metadata": {},
   "outputs": [],
   "source": []
  },
  {
   "cell_type": "code",
   "execution_count": 65,
   "metadata": {},
   "outputs": [],
   "source": [
    "# Gws source range z_{S} = 0.01 ~ 5 since z_{L} < z_{S}\n",
    "zs = np.linspace(0.001,300,10)"
   ]
  },
  {
   "cell_type": "code",
   "execution_count": 66,
   "metadata": {},
   "outputs": [],
   "source": [
    "#sigma_3(m,1)"
   ]
  },
  {
   "cell_type": "code",
   "execution_count": 67,
   "metadata": {},
   "outputs": [
    {
     "ename": "KeyboardInterrupt",
     "evalue": "",
     "output_type": "error",
     "traceback": [
      "\u001b[0;31m---------------------------------------------------------------------------\u001b[0m",
      "\u001b[0;31mKeyboardInterrupt\u001b[0m                         Traceback (most recent call last)",
      "\u001b[0;32m<ipython-input-67-8c33b8b9576e>\u001b[0m in \u001b[0;36m<module>\u001b[0;34m\u001b[0m\n\u001b[0;32m----> 1\u001b[0;31m \u001b[0mcross_sec\u001b[0m \u001b[0;34m=\u001b[0m \u001b[0mnp\u001b[0m\u001b[0;34m.\u001b[0m\u001b[0masarray\u001b[0m\u001b[0;34m(\u001b[0m\u001b[0;34m[\u001b[0m\u001b[0msigma_3\u001b[0m\u001b[0;34m(\u001b[0m\u001b[0mm\u001b[0m\u001b[0;34m,\u001b[0m\u001b[0mj\u001b[0m\u001b[0;34m)\u001b[0m \u001b[0;32mfor\u001b[0m \u001b[0mj\u001b[0m \u001b[0;32min\u001b[0m \u001b[0mzs\u001b[0m\u001b[0;34m]\u001b[0m\u001b[0;34m)\u001b[0m\u001b[0;34m\u001b[0m\u001b[0;34m\u001b[0m\u001b[0m\n\u001b[0m\u001b[1;32m      2\u001b[0m \u001b[0;31m#10:100\u001b[0m\u001b[0;34m\u001b[0m\u001b[0;34m\u001b[0m\u001b[0;34m\u001b[0m\u001b[0m\n\u001b[1;32m      3\u001b[0m \u001b[0;31m#20: 94\u001b[0m\u001b[0;34m\u001b[0m\u001b[0;34m\u001b[0m\u001b[0;34m\u001b[0m\u001b[0m\n\u001b[1;32m      4\u001b[0m \u001b[0;31m#50:97\u001b[0m\u001b[0;34m\u001b[0m\u001b[0;34m\u001b[0m\u001b[0;34m\u001b[0m\u001b[0m\n\u001b[1;32m      5\u001b[0m \u001b[0;31m#70:95\u001b[0m\u001b[0;34m\u001b[0m\u001b[0;34m\u001b[0m\u001b[0;34m\u001b[0m\u001b[0m\n",
      "\u001b[0;32m<ipython-input-67-8c33b8b9576e>\u001b[0m in \u001b[0;36m<listcomp>\u001b[0;34m(.0)\u001b[0m\n\u001b[0;32m----> 1\u001b[0;31m \u001b[0mcross_sec\u001b[0m \u001b[0;34m=\u001b[0m \u001b[0mnp\u001b[0m\u001b[0;34m.\u001b[0m\u001b[0masarray\u001b[0m\u001b[0;34m(\u001b[0m\u001b[0;34m[\u001b[0m\u001b[0msigma_3\u001b[0m\u001b[0;34m(\u001b[0m\u001b[0mm\u001b[0m\u001b[0;34m,\u001b[0m\u001b[0mj\u001b[0m\u001b[0;34m)\u001b[0m \u001b[0;32mfor\u001b[0m \u001b[0mj\u001b[0m \u001b[0;32min\u001b[0m \u001b[0mzs\u001b[0m\u001b[0;34m]\u001b[0m\u001b[0;34m)\u001b[0m\u001b[0;34m\u001b[0m\u001b[0;34m\u001b[0m\u001b[0m\n\u001b[0m\u001b[1;32m      2\u001b[0m \u001b[0;31m#10:100\u001b[0m\u001b[0;34m\u001b[0m\u001b[0;34m\u001b[0m\u001b[0;34m\u001b[0m\u001b[0m\n\u001b[1;32m      3\u001b[0m \u001b[0;31m#20: 94\u001b[0m\u001b[0;34m\u001b[0m\u001b[0;34m\u001b[0m\u001b[0;34m\u001b[0m\u001b[0m\n\u001b[1;32m      4\u001b[0m \u001b[0;31m#50:97\u001b[0m\u001b[0;34m\u001b[0m\u001b[0;34m\u001b[0m\u001b[0;34m\u001b[0m\u001b[0m\n\u001b[1;32m      5\u001b[0m \u001b[0;31m#70:95\u001b[0m\u001b[0;34m\u001b[0m\u001b[0;34m\u001b[0m\u001b[0;34m\u001b[0m\u001b[0m\n",
      "\u001b[0;32m<ipython-input-56-5bbb19818b79>\u001b[0m in \u001b[0;36msigma_3\u001b[0;34m(m, zs)\u001b[0m\n\u001b[1;32m      4\u001b[0m              \u001b[0;34m(\u001b[0m\u001b[0mcosmo\u001b[0m\u001b[0;34m.\u001b[0m\u001b[0mdifferential_comoving_volume\u001b[0m\u001b[0;34m(\u001b[0m\u001b[0mi\u001b[0m\u001b[0;34m)\u001b[0m\u001b[0;34m.\u001b[0m\u001b[0mvalue\u001b[0m\u001b[0;34m)\u001b[0m\u001b[0;34m*\u001b[0m\u001b[0;31m\\\u001b[0m\u001b[0;34m\u001b[0m\u001b[0;34m\u001b[0m\u001b[0m\n\u001b[1;32m      5\u001b[0m              \u001b[0;34m(\u001b[0m\u001b[0mcosmo\u001b[0m\u001b[0;34m.\u001b[0m\u001b[0mangular_diameter_distance_z1z2\u001b[0m\u001b[0;34m(\u001b[0m\u001b[0mi\u001b[0m\u001b[0;34m,\u001b[0m\u001b[0mzs\u001b[0m\u001b[0;34m)\u001b[0m\u001b[0;34m.\u001b[0m\u001b[0mvalue\u001b[0m\u001b[0;34m/\u001b[0m\u001b[0mcosmo\u001b[0m\u001b[0;34m.\u001b[0m\u001b[0mangular_diameter_distance\u001b[0m\u001b[0;34m(\u001b[0m\u001b[0mzs\u001b[0m\u001b[0;34m)\u001b[0m\u001b[0;34m.\u001b[0m\u001b[0mvalue\u001b[0m\u001b[0;34m)\u001b[0m\u001b[0;34m**\u001b[0m\u001b[0;36m2\u001b[0m\u001b[0;34m*\u001b[0m\u001b[0;34m\u001b[0m\u001b[0;34m\u001b[0m\u001b[0m\n\u001b[0;32m----> 6\u001b[0;31m              zs*len(zl)**-1 for i in zl]))\n\u001b[0m",
      "\u001b[0;32m<ipython-input-56-5bbb19818b79>\u001b[0m in \u001b[0;36m<listcomp>\u001b[0;34m(.0)\u001b[0m\n\u001b[1;32m      4\u001b[0m              \u001b[0;34m(\u001b[0m\u001b[0mcosmo\u001b[0m\u001b[0;34m.\u001b[0m\u001b[0mdifferential_comoving_volume\u001b[0m\u001b[0;34m(\u001b[0m\u001b[0mi\u001b[0m\u001b[0;34m)\u001b[0m\u001b[0;34m.\u001b[0m\u001b[0mvalue\u001b[0m\u001b[0;34m)\u001b[0m\u001b[0;34m*\u001b[0m\u001b[0;31m\\\u001b[0m\u001b[0;34m\u001b[0m\u001b[0;34m\u001b[0m\u001b[0m\n\u001b[1;32m      5\u001b[0m              \u001b[0;34m(\u001b[0m\u001b[0mcosmo\u001b[0m\u001b[0;34m.\u001b[0m\u001b[0mangular_diameter_distance_z1z2\u001b[0m\u001b[0;34m(\u001b[0m\u001b[0mi\u001b[0m\u001b[0;34m,\u001b[0m\u001b[0mzs\u001b[0m\u001b[0;34m)\u001b[0m\u001b[0;34m.\u001b[0m\u001b[0mvalue\u001b[0m\u001b[0;34m/\u001b[0m\u001b[0mcosmo\u001b[0m\u001b[0;34m.\u001b[0m\u001b[0mangular_diameter_distance\u001b[0m\u001b[0;34m(\u001b[0m\u001b[0mzs\u001b[0m\u001b[0;34m)\u001b[0m\u001b[0;34m.\u001b[0m\u001b[0mvalue\u001b[0m\u001b[0;34m)\u001b[0m\u001b[0;34m**\u001b[0m\u001b[0;36m2\u001b[0m\u001b[0;34m*\u001b[0m\u001b[0;34m\u001b[0m\u001b[0;34m\u001b[0m\u001b[0m\n\u001b[0;32m----> 6\u001b[0;31m              zs*len(zl)**-1 for i in zl]))\n\u001b[0m",
      "\u001b[0;32m<ipython-input-6-9e927d408ccd>\u001b[0m in \u001b[0;36mdndlnm\u001b[0;34m(m, zl)\u001b[0m\n\u001b[1;32m     29\u001b[0m \u001b[0;31m# Comoving Number density of Haloes per ln(Haloes Mass)\u001b[0m\u001b[0;34m\u001b[0m\u001b[0;34m\u001b[0m\u001b[0;34m\u001b[0m\u001b[0m\n\u001b[1;32m     30\u001b[0m \u001b[0;32mdef\u001b[0m \u001b[0mdndlnm\u001b[0m\u001b[0;34m(\u001b[0m\u001b[0mm\u001b[0m\u001b[0;34m,\u001b[0m\u001b[0mzl\u001b[0m\u001b[0;34m)\u001b[0m\u001b[0;34m:\u001b[0m\u001b[0;34m\u001b[0m\u001b[0;34m\u001b[0m\u001b[0m\n\u001b[0;32m---> 31\u001b[0;31m     \u001b[0mmfunc_fof\u001b[0m \u001b[0;34m=\u001b[0m \u001b[0mmass_function\u001b[0m\u001b[0;34m.\u001b[0m\u001b[0mmassFunction\u001b[0m\u001b[0;34m(\u001b[0m\u001b[0mm\u001b[0m\u001b[0;34m,\u001b[0m\u001b[0mz\u001b[0m\u001b[0;34m=\u001b[0m\u001b[0mzl\u001b[0m \u001b[0;34m,\u001b[0m \u001b[0mq_in\u001b[0m\u001b[0;34m=\u001b[0m \u001b[0;34m\"M\"\u001b[0m\u001b[0;34m,\u001b[0m \u001b[0mq_out\u001b[0m\u001b[0;34m=\u001b[0m\u001b[0;34m\"dndlnM\"\u001b[0m\u001b[0;34m,\u001b[0m \u001b[0mmdef\u001b[0m\u001b[0;34m=\u001b[0m\u001b[0;34m'200c'\u001b[0m\u001b[0;34m,\u001b[0m \u001b[0mmodel\u001b[0m \u001b[0;34m=\u001b[0m \u001b[0;34m'tinker08'\u001b[0m\u001b[0;34m)\u001b[0m\u001b[0;34m\u001b[0m\u001b[0;34m\u001b[0m\u001b[0m\n\u001b[0m\u001b[1;32m     32\u001b[0m     \u001b[0;32mreturn\u001b[0m \u001b[0mmfunc_fof\u001b[0m\u001b[0;34m\u001b[0m\u001b[0;34m\u001b[0m\u001b[0m\n\u001b[1;32m     33\u001b[0m \u001b[0;34m\u001b[0m\u001b[0m\n",
      "\u001b[0;32m~/Library/Python/3.7/lib/python/site-packages/colossus/lss/mass_function.py\u001b[0m in \u001b[0;36mmassFunction\u001b[0;34m(x, z, q_in, q_out, mdef, model, ps_args, sigma_args, deltac_args, **kwargs)\u001b[0m\n\u001b[1;32m    352\u001b[0m                         \u001b[0mR\u001b[0m \u001b[0;34m=\u001b[0m \u001b[0mcosmo\u001b[0m\u001b[0;34m.\u001b[0m\u001b[0msigma\u001b[0m\u001b[0;34m(\u001b[0m\u001b[0msigma\u001b[0m\u001b[0;34m,\u001b[0m \u001b[0mz\u001b[0m\u001b[0;34m,\u001b[0m \u001b[0minverse\u001b[0m \u001b[0;34m=\u001b[0m \u001b[0;32mTrue\u001b[0m\u001b[0;34m,\u001b[0m \u001b[0mps_args\u001b[0m \u001b[0;34m=\u001b[0m \u001b[0mps_args\u001b[0m\u001b[0;34m,\u001b[0m \u001b[0;34m**\u001b[0m\u001b[0msigma_args\u001b[0m\u001b[0;34m)\u001b[0m\u001b[0;34m\u001b[0m\u001b[0;34m\u001b[0m\u001b[0m\n\u001b[1;32m    353\u001b[0m                         \u001b[0mM\u001b[0m \u001b[0;34m=\u001b[0m \u001b[0mpeaks\u001b[0m\u001b[0;34m.\u001b[0m\u001b[0mlagrangianM\u001b[0m\u001b[0;34m(\u001b[0m\u001b[0mR\u001b[0m\u001b[0;34m)\u001b[0m\u001b[0;34m\u001b[0m\u001b[0;34m\u001b[0m\u001b[0m\n\u001b[0;32m--> 354\u001b[0;31m                 \u001b[0mmfunc\u001b[0m \u001b[0;34m=\u001b[0m \u001b[0mconvertMassFunction\u001b[0m\u001b[0;34m(\u001b[0m\u001b[0mf\u001b[0m\u001b[0;34m,\u001b[0m \u001b[0mM\u001b[0m\u001b[0;34m,\u001b[0m \u001b[0mz\u001b[0m\u001b[0;34m,\u001b[0m \u001b[0;34m'f'\u001b[0m\u001b[0;34m,\u001b[0m \u001b[0mq_out\u001b[0m\u001b[0;34m,\u001b[0m \u001b[0mps_args\u001b[0m \u001b[0;34m=\u001b[0m \u001b[0mps_args\u001b[0m\u001b[0;34m,\u001b[0m \u001b[0msigma_args\u001b[0m \u001b[0;34m=\u001b[0m \u001b[0msigma_args\u001b[0m\u001b[0;34m)\u001b[0m\u001b[0;34m\u001b[0m\u001b[0;34m\u001b[0m\u001b[0m\n\u001b[0m\u001b[1;32m    355\u001b[0m \u001b[0;34m\u001b[0m\u001b[0m\n\u001b[1;32m    356\u001b[0m         \u001b[0;32mreturn\u001b[0m \u001b[0mmfunc\u001b[0m\u001b[0;34m\u001b[0m\u001b[0;34m\u001b[0m\u001b[0m\n",
      "\u001b[0;32m~/Library/Python/3.7/lib/python/site-packages/colossus/lss/mass_function.py\u001b[0m in \u001b[0;36mconvertMassFunction\u001b[0;34m(mfunc, M, z, q_in, q_out, ps_args, sigma_args)\u001b[0m\n\u001b[1;32m    397\u001b[0m \u001b[0;34m\u001b[0m\u001b[0m\n\u001b[1;32m    398\u001b[0m         \u001b[0mcosmo\u001b[0m \u001b[0;34m=\u001b[0m \u001b[0mcosmology\u001b[0m\u001b[0;34m.\u001b[0m\u001b[0mgetCurrent\u001b[0m\u001b[0;34m(\u001b[0m\u001b[0;34m)\u001b[0m\u001b[0;34m\u001b[0m\u001b[0;34m\u001b[0m\u001b[0m\n\u001b[0;32m--> 399\u001b[0;31m         \u001b[0mR\u001b[0m \u001b[0;34m=\u001b[0m \u001b[0mpeaks\u001b[0m\u001b[0;34m.\u001b[0m\u001b[0mlagrangianR\u001b[0m\u001b[0;34m(\u001b[0m\u001b[0mM\u001b[0m\u001b[0;34m)\u001b[0m\u001b[0;34m\u001b[0m\u001b[0;34m\u001b[0m\u001b[0m\n\u001b[0m\u001b[1;32m    400\u001b[0m         \u001b[0md_ln_sigma_d_ln_R\u001b[0m \u001b[0;34m=\u001b[0m \u001b[0mcosmo\u001b[0m\u001b[0;34m.\u001b[0m\u001b[0msigma\u001b[0m\u001b[0;34m(\u001b[0m\u001b[0mR\u001b[0m\u001b[0;34m,\u001b[0m \u001b[0mz\u001b[0m\u001b[0;34m,\u001b[0m \u001b[0mderivative\u001b[0m \u001b[0;34m=\u001b[0m \u001b[0;32mTrue\u001b[0m\u001b[0;34m,\u001b[0m \u001b[0mps_args\u001b[0m \u001b[0;34m=\u001b[0m \u001b[0mps_args\u001b[0m\u001b[0;34m,\u001b[0m \u001b[0;34m**\u001b[0m\u001b[0msigma_args\u001b[0m\u001b[0;34m)\u001b[0m\u001b[0;34m\u001b[0m\u001b[0;34m\u001b[0m\u001b[0m\n\u001b[1;32m    401\u001b[0m         \u001b[0mrho_Mpc\u001b[0m \u001b[0;34m=\u001b[0m \u001b[0mcosmo\u001b[0m\u001b[0;34m.\u001b[0m\u001b[0mrho_m\u001b[0m\u001b[0;34m(\u001b[0m\u001b[0;36m0.0\u001b[0m\u001b[0;34m)\u001b[0m \u001b[0;34m*\u001b[0m \u001b[0;36m1E9\u001b[0m\u001b[0;34m\u001b[0m\u001b[0;34m\u001b[0m\u001b[0m\n",
      "\u001b[0;32m~/Library/Python/3.7/lib/python/site-packages/colossus/lss/peaks.py\u001b[0m in \u001b[0;36mlagrangianR\u001b[0;34m(M)\u001b[0m\n\u001b[1;32m     97\u001b[0m \u001b[0;34m\u001b[0m\u001b[0m\n\u001b[1;32m     98\u001b[0m         \u001b[0mcosmo\u001b[0m \u001b[0;34m=\u001b[0m \u001b[0mcosmology\u001b[0m\u001b[0;34m.\u001b[0m\u001b[0mgetCurrent\u001b[0m\u001b[0;34m(\u001b[0m\u001b[0;34m)\u001b[0m\u001b[0;34m\u001b[0m\u001b[0;34m\u001b[0m\u001b[0m\n\u001b[0;32m---> 99\u001b[0;31m         \u001b[0mR\u001b[0m \u001b[0;34m=\u001b[0m \u001b[0;34m(\u001b[0m\u001b[0;36m3.0\u001b[0m \u001b[0;34m*\u001b[0m \u001b[0mM\u001b[0m \u001b[0;34m/\u001b[0m \u001b[0;36m4.0\u001b[0m \u001b[0;34m/\u001b[0m \u001b[0mnp\u001b[0m\u001b[0;34m.\u001b[0m\u001b[0mpi\u001b[0m \u001b[0;34m/\u001b[0m \u001b[0mcosmo\u001b[0m\u001b[0;34m.\u001b[0m\u001b[0mrho_m\u001b[0m\u001b[0;34m(\u001b[0m\u001b[0;36m0.0\u001b[0m\u001b[0;34m)\u001b[0m \u001b[0;34m/\u001b[0m \u001b[0;36m1E9\u001b[0m\u001b[0;34m)\u001b[0m\u001b[0;34m**\u001b[0m\u001b[0;34m(\u001b[0m\u001b[0;36m1.0\u001b[0m \u001b[0;34m/\u001b[0m \u001b[0;36m3.0\u001b[0m\u001b[0;34m)\u001b[0m\u001b[0;34m\u001b[0m\u001b[0;34m\u001b[0m\u001b[0m\n\u001b[0m\u001b[1;32m    100\u001b[0m \u001b[0;34m\u001b[0m\u001b[0m\n\u001b[1;32m    101\u001b[0m         \u001b[0;32mreturn\u001b[0m \u001b[0mR\u001b[0m\u001b[0;34m\u001b[0m\u001b[0;34m\u001b[0m\u001b[0m\n",
      "\u001b[0;32m~/Library/Python/3.7/lib/python/site-packages/pandas/core/ops/common.py\u001b[0m in \u001b[0;36mnew_method\u001b[0;34m(self, other)\u001b[0m\n\u001b[1;32m     62\u001b[0m         \u001b[0mother\u001b[0m \u001b[0;34m=\u001b[0m \u001b[0mitem_from_zerodim\u001b[0m\u001b[0;34m(\u001b[0m\u001b[0mother\u001b[0m\u001b[0;34m)\u001b[0m\u001b[0;34m\u001b[0m\u001b[0;34m\u001b[0m\u001b[0m\n\u001b[1;32m     63\u001b[0m \u001b[0;34m\u001b[0m\u001b[0m\n\u001b[0;32m---> 64\u001b[0;31m         \u001b[0;32mreturn\u001b[0m \u001b[0mmethod\u001b[0m\u001b[0;34m(\u001b[0m\u001b[0mself\u001b[0m\u001b[0;34m,\u001b[0m \u001b[0mother\u001b[0m\u001b[0;34m)\u001b[0m\u001b[0;34m\u001b[0m\u001b[0;34m\u001b[0m\u001b[0m\n\u001b[0m\u001b[1;32m     65\u001b[0m \u001b[0;34m\u001b[0m\u001b[0m\n\u001b[1;32m     66\u001b[0m     \u001b[0;32mreturn\u001b[0m \u001b[0mnew_method\u001b[0m\u001b[0;34m\u001b[0m\u001b[0;34m\u001b[0m\u001b[0m\n",
      "\u001b[0;32m~/Library/Python/3.7/lib/python/site-packages/pandas/core/ops/__init__.py\u001b[0m in \u001b[0;36mwrapper\u001b[0;34m(left, right)\u001b[0m\n\u001b[1;32m    500\u001b[0m         \u001b[0mresult\u001b[0m \u001b[0;34m=\u001b[0m \u001b[0marithmetic_op\u001b[0m\u001b[0;34m(\u001b[0m\u001b[0mlvalues\u001b[0m\u001b[0;34m,\u001b[0m \u001b[0mrvalues\u001b[0m\u001b[0;34m,\u001b[0m \u001b[0mop\u001b[0m\u001b[0;34m,\u001b[0m \u001b[0mstr_rep\u001b[0m\u001b[0;34m)\u001b[0m\u001b[0;34m\u001b[0m\u001b[0;34m\u001b[0m\u001b[0m\n\u001b[1;32m    501\u001b[0m \u001b[0;34m\u001b[0m\u001b[0m\n\u001b[0;32m--> 502\u001b[0;31m         \u001b[0;32mreturn\u001b[0m \u001b[0m_construct_result\u001b[0m\u001b[0;34m(\u001b[0m\u001b[0mleft\u001b[0m\u001b[0;34m,\u001b[0m \u001b[0mresult\u001b[0m\u001b[0;34m,\u001b[0m \u001b[0mindex\u001b[0m\u001b[0;34m=\u001b[0m\u001b[0mleft\u001b[0m\u001b[0;34m.\u001b[0m\u001b[0mindex\u001b[0m\u001b[0;34m,\u001b[0m \u001b[0mname\u001b[0m\u001b[0;34m=\u001b[0m\u001b[0mres_name\u001b[0m\u001b[0;34m)\u001b[0m\u001b[0;34m\u001b[0m\u001b[0;34m\u001b[0m\u001b[0m\n\u001b[0m\u001b[1;32m    503\u001b[0m \u001b[0;34m\u001b[0m\u001b[0m\n\u001b[1;32m    504\u001b[0m     \u001b[0mwrapper\u001b[0m\u001b[0;34m.\u001b[0m\u001b[0m__name__\u001b[0m \u001b[0;34m=\u001b[0m \u001b[0mop_name\u001b[0m\u001b[0;34m\u001b[0m\u001b[0;34m\u001b[0m\u001b[0m\n",
      "\u001b[0;32m~/Library/Python/3.7/lib/python/site-packages/pandas/core/ops/__init__.py\u001b[0m in \u001b[0;36m_construct_result\u001b[0;34m(left, result, index, name)\u001b[0m\n\u001b[1;32m    473\u001b[0m     \u001b[0;31m# We do not pass dtype to ensure that the Series constructor\u001b[0m\u001b[0;34m\u001b[0m\u001b[0;34m\u001b[0m\u001b[0;34m\u001b[0m\u001b[0m\n\u001b[1;32m    474\u001b[0m     \u001b[0;31m#  does inference in the case where `result` has object-dtype.\u001b[0m\u001b[0;34m\u001b[0m\u001b[0;34m\u001b[0m\u001b[0;34m\u001b[0m\u001b[0m\n\u001b[0;32m--> 475\u001b[0;31m     \u001b[0mout\u001b[0m \u001b[0;34m=\u001b[0m \u001b[0mleft\u001b[0m\u001b[0;34m.\u001b[0m\u001b[0m_constructor\u001b[0m\u001b[0;34m(\u001b[0m\u001b[0mresult\u001b[0m\u001b[0;34m,\u001b[0m \u001b[0mindex\u001b[0m\u001b[0;34m=\u001b[0m\u001b[0mindex\u001b[0m\u001b[0;34m)\u001b[0m\u001b[0;34m\u001b[0m\u001b[0;34m\u001b[0m\u001b[0m\n\u001b[0m\u001b[1;32m    476\u001b[0m     \u001b[0mout\u001b[0m \u001b[0;34m=\u001b[0m \u001b[0mout\u001b[0m\u001b[0;34m.\u001b[0m\u001b[0m__finalize__\u001b[0m\u001b[0;34m(\u001b[0m\u001b[0mleft\u001b[0m\u001b[0;34m)\u001b[0m\u001b[0;34m\u001b[0m\u001b[0;34m\u001b[0m\u001b[0m\n\u001b[1;32m    477\u001b[0m \u001b[0;34m\u001b[0m\u001b[0m\n",
      "\u001b[0;32m~/Library/Python/3.7/lib/python/site-packages/pandas/core/series.py\u001b[0m in \u001b[0;36m__init__\u001b[0;34m(self, data, index, dtype, name, copy, fastpath)\u001b[0m\n\u001b[1;32m    303\u001b[0m                     \u001b[0mdata\u001b[0m \u001b[0;34m=\u001b[0m \u001b[0mdata\u001b[0m\u001b[0;34m.\u001b[0m\u001b[0mcopy\u001b[0m\u001b[0;34m(\u001b[0m\u001b[0;34m)\u001b[0m\u001b[0;34m\u001b[0m\u001b[0;34m\u001b[0m\u001b[0m\n\u001b[1;32m    304\u001b[0m             \u001b[0;32melse\u001b[0m\u001b[0;34m:\u001b[0m\u001b[0;34m\u001b[0m\u001b[0;34m\u001b[0m\u001b[0m\n\u001b[0;32m--> 305\u001b[0;31m                 \u001b[0mdata\u001b[0m \u001b[0;34m=\u001b[0m \u001b[0msanitize_array\u001b[0m\u001b[0;34m(\u001b[0m\u001b[0mdata\u001b[0m\u001b[0;34m,\u001b[0m \u001b[0mindex\u001b[0m\u001b[0;34m,\u001b[0m \u001b[0mdtype\u001b[0m\u001b[0;34m,\u001b[0m \u001b[0mcopy\u001b[0m\u001b[0;34m,\u001b[0m \u001b[0mraise_cast_failure\u001b[0m\u001b[0;34m=\u001b[0m\u001b[0;32mTrue\u001b[0m\u001b[0;34m)\u001b[0m\u001b[0;34m\u001b[0m\u001b[0;34m\u001b[0m\u001b[0m\n\u001b[0m\u001b[1;32m    306\u001b[0m \u001b[0;34m\u001b[0m\u001b[0m\n\u001b[1;32m    307\u001b[0m                 \u001b[0mdata\u001b[0m \u001b[0;34m=\u001b[0m \u001b[0mSingleBlockManager\u001b[0m\u001b[0;34m(\u001b[0m\u001b[0mdata\u001b[0m\u001b[0;34m,\u001b[0m \u001b[0mindex\u001b[0m\u001b[0;34m,\u001b[0m \u001b[0mfastpath\u001b[0m\u001b[0;34m=\u001b[0m\u001b[0;32mTrue\u001b[0m\u001b[0;34m)\u001b[0m\u001b[0;34m\u001b[0m\u001b[0;34m\u001b[0m\u001b[0m\n",
      "\u001b[0;32m~/Library/Python/3.7/lib/python/site-packages/pandas/core/construction.py\u001b[0m in \u001b[0;36msanitize_array\u001b[0;34m(data, index, dtype, copy, raise_cast_failure)\u001b[0m\n\u001b[1;32m    422\u001b[0m         \u001b[0;32melse\u001b[0m\u001b[0;34m:\u001b[0m\u001b[0;34m\u001b[0m\u001b[0;34m\u001b[0m\u001b[0m\n\u001b[1;32m    423\u001b[0m             \u001b[0;31m# we will try to copy be-definition here\u001b[0m\u001b[0;34m\u001b[0m\u001b[0;34m\u001b[0m\u001b[0;34m\u001b[0m\u001b[0m\n\u001b[0;32m--> 424\u001b[0;31m             \u001b[0msubarr\u001b[0m \u001b[0;34m=\u001b[0m \u001b[0m_try_cast\u001b[0m\u001b[0;34m(\u001b[0m\u001b[0mdata\u001b[0m\u001b[0;34m,\u001b[0m \u001b[0mdtype\u001b[0m\u001b[0;34m,\u001b[0m \u001b[0mcopy\u001b[0m\u001b[0;34m,\u001b[0m \u001b[0mraise_cast_failure\u001b[0m\u001b[0;34m)\u001b[0m\u001b[0;34m\u001b[0m\u001b[0;34m\u001b[0m\u001b[0m\n\u001b[0m\u001b[1;32m    425\u001b[0m \u001b[0;34m\u001b[0m\u001b[0m\n\u001b[1;32m    426\u001b[0m     \u001b[0;32melif\u001b[0m \u001b[0misinstance\u001b[0m\u001b[0;34m(\u001b[0m\u001b[0mdata\u001b[0m\u001b[0;34m,\u001b[0m \u001b[0mABCExtensionArray\u001b[0m\u001b[0;34m)\u001b[0m\u001b[0;34m:\u001b[0m\u001b[0;34m\u001b[0m\u001b[0;34m\u001b[0m\u001b[0m\n",
      "\u001b[0;32m~/Library/Python/3.7/lib/python/site-packages/pandas/core/construction.py\u001b[0m in \u001b[0;36m_try_cast\u001b[0;34m(arr, dtype, copy, raise_cast_failure)\u001b[0m\n\u001b[1;32m    526\u001b[0m     \u001b[0;31m# perf shortcut as this is the most common case\u001b[0m\u001b[0;34m\u001b[0m\u001b[0;34m\u001b[0m\u001b[0;34m\u001b[0m\u001b[0m\n\u001b[1;32m    527\u001b[0m     \u001b[0;32mif\u001b[0m \u001b[0misinstance\u001b[0m\u001b[0;34m(\u001b[0m\u001b[0marr\u001b[0m\u001b[0;34m,\u001b[0m \u001b[0mnp\u001b[0m\u001b[0;34m.\u001b[0m\u001b[0mndarray\u001b[0m\u001b[0;34m)\u001b[0m\u001b[0;34m:\u001b[0m\u001b[0;34m\u001b[0m\u001b[0;34m\u001b[0m\u001b[0m\n\u001b[0;32m--> 528\u001b[0;31m         \u001b[0;32mif\u001b[0m \u001b[0mmaybe_castable\u001b[0m\u001b[0;34m(\u001b[0m\u001b[0marr\u001b[0m\u001b[0;34m)\u001b[0m \u001b[0;32mand\u001b[0m \u001b[0;32mnot\u001b[0m \u001b[0mcopy\u001b[0m \u001b[0;32mand\u001b[0m \u001b[0mdtype\u001b[0m \u001b[0;32mis\u001b[0m \u001b[0;32mNone\u001b[0m\u001b[0;34m:\u001b[0m\u001b[0;34m\u001b[0m\u001b[0;34m\u001b[0m\u001b[0m\n\u001b[0m\u001b[1;32m    529\u001b[0m             \u001b[0;32mreturn\u001b[0m \u001b[0marr\u001b[0m\u001b[0;34m\u001b[0m\u001b[0;34m\u001b[0m\u001b[0m\n\u001b[1;32m    530\u001b[0m \u001b[0;34m\u001b[0m\u001b[0m\n",
      "\u001b[0;32m~/Library/Python/3.7/lib/python/site-packages/pandas/core/dtypes/cast.py\u001b[0m in \u001b[0;36mmaybe_castable\u001b[0;34m(arr)\u001b[0m\n\u001b[1;32m   1106\u001b[0m         \u001b[0;32mreturn\u001b[0m \u001b[0mis_timedelta64_ns_dtype\u001b[0m\u001b[0;34m(\u001b[0m\u001b[0marr\u001b[0m\u001b[0;34m.\u001b[0m\u001b[0mdtype\u001b[0m\u001b[0;34m)\u001b[0m\u001b[0;34m\u001b[0m\u001b[0;34m\u001b[0m\u001b[0m\n\u001b[1;32m   1107\u001b[0m \u001b[0;34m\u001b[0m\u001b[0m\n\u001b[0;32m-> 1108\u001b[0;31m     \u001b[0;32mreturn\u001b[0m \u001b[0marr\u001b[0m\u001b[0;34m.\u001b[0m\u001b[0mdtype\u001b[0m\u001b[0;34m.\u001b[0m\u001b[0mname\u001b[0m \u001b[0;32mnot\u001b[0m \u001b[0;32min\u001b[0m \u001b[0m_POSSIBLY_CAST_DTYPES\u001b[0m\u001b[0;34m\u001b[0m\u001b[0;34m\u001b[0m\u001b[0m\n\u001b[0m\u001b[1;32m   1109\u001b[0m \u001b[0;34m\u001b[0m\u001b[0m\n\u001b[1;32m   1110\u001b[0m \u001b[0;34m\u001b[0m\u001b[0m\n",
      "\u001b[0;32m~/Library/Python/3.7/lib/python/site-packages/numpy/core/_dtype.py\u001b[0m in \u001b[0;36m_name_get\u001b[0;34m(dtype)\u001b[0m\n\u001b[1;32m    331\u001b[0m \u001b[0;34m\u001b[0m\u001b[0m\n\u001b[1;32m    332\u001b[0m \u001b[0;34m\u001b[0m\u001b[0m\n\u001b[0;32m--> 333\u001b[0;31m \u001b[0;32mdef\u001b[0m \u001b[0m_name_get\u001b[0m\u001b[0;34m(\u001b[0m\u001b[0mdtype\u001b[0m\u001b[0;34m)\u001b[0m\u001b[0;34m:\u001b[0m\u001b[0;34m\u001b[0m\u001b[0;34m\u001b[0m\u001b[0m\n\u001b[0m\u001b[1;32m    334\u001b[0m     \u001b[0;31m# provides dtype.name.__get__, documented as returning a \"bit name\"\u001b[0m\u001b[0;34m\u001b[0m\u001b[0;34m\u001b[0m\u001b[0;34m\u001b[0m\u001b[0m\n\u001b[1;32m    335\u001b[0m \u001b[0;34m\u001b[0m\u001b[0m\n",
      "\u001b[0;31mKeyboardInterrupt\u001b[0m: "
     ]
    }
   ],
   "source": [
    "cross_sec = np.asarray([sigma_3(m,j) for j in zs])\n",
    "#10:100\n",
    "#20: 94\n",
    "#50:97\n",
    "#70:95\n",
    "#100:93"
   ]
  },
  {
   "cell_type": "code",
   "execution_count": null,
   "metadata": {},
   "outputs": [],
   "source": [
    "plt.plot(zs,cross_sec)\n",
    "plt.title(r\"Total Lensing Cross-section vs Source Redshift $z_{S}$ \")\n",
    "plt.ylabel(r\" Total Lensing Cross-section $(\\mu_{0}^{2}-1)^{2}/(\\mu_{0}^{2} + 1)$\")\n",
    "plt.xlabel(r\" Source Redshift $z_{S}$\")\n",
    "plt.savefig(\"cross_sec_vs_z.pdf\")"
   ]
  },
  {
   "cell_type": "code",
   "execution_count": 178,
   "metadata": {},
   "outputs": [
    {
     "data": {
      "text/html": [
       "<div>\n",
       "<style scoped>\n",
       "    .dataframe tbody tr th:only-of-type {\n",
       "        vertical-align: middle;\n",
       "    }\n",
       "\n",
       "    .dataframe tbody tr th {\n",
       "        vertical-align: top;\n",
       "    }\n",
       "\n",
       "    .dataframe thead th {\n",
       "        text-align: right;\n",
       "    }\n",
       "</style>\n",
       "<table border=\"1\" class=\"dataframe\">\n",
       "  <thead>\n",
       "    <tr style=\"text-align: right;\">\n",
       "      <th></th>\n",
       "      <th>zs</th>\n",
       "      <th>sigma</th>\n",
       "    </tr>\n",
       "  </thead>\n",
       "  <tbody>\n",
       "    <tr>\n",
       "      <th>9</th>\n",
       "      <td>5.0</td>\n",
       "      <td>2.959431e-36</td>\n",
       "    </tr>\n",
       "  </tbody>\n",
       "</table>\n",
       "</div>"
      ],
      "text/plain": [
       "    zs         sigma\n",
       "9  5.0  2.959431e-36"
      ]
     },
     "execution_count": 178,
     "metadata": {},
     "output_type": "execute_result"
    }
   ],
   "source": [
    "cs_vs_z = pd.DataFrame({\"zs\":zs, \"sigma\":cross_sec})\n",
    "cs_vs_z[cs_vs_z[\"sigma\"]== np.max(cs_vs_z[\"sigma\"])]"
   ]
  },
  {
   "cell_type": "code",
   "execution_count": 121,
   "metadata": {},
   "outputs": [],
   "source": [
    "# Maginification of Gravotational waves \n",
    "def mu_gw(zs):\n",
    "    # zs > 0.3 by computation\n",
    "    return (cosmo.luminosity_distance(zs)/cosmo.luminosity_distance(0.15))**2 "
   ]
  },
  {
   "cell_type": "code",
   "execution_count": 123,
   "metadata": {},
   "outputs": [
    {
     "data": {
      "text/latex": [
       "$1682.6001 \\; \\mathrm{}$"
      ],
      "text/plain": [
       "<Quantity 1682.60005919>"
      ]
     },
     "execution_count": 123,
     "metadata": {},
     "output_type": "execute_result"
    }
   ],
   "source": [
    "np.sqrt(mu_gw(95.652855))"
   ]
  },
  {
   "cell_type": "code",
   "execution_count": 24,
   "metadata": {},
   "outputs": [],
   "source": [
    "### cross-section where mu_{GW} is not a constant, it is a function depending on z_{S}\n",
    "def cs_mu(m,zs): \n",
    "    ### May choose dV = 4*pi*dV *delta z\n",
    "    ### What is the differences of using dV and V ???? \n",
    "    ### Inner Loop: we integrate the total lens contribution in range zl \\in (0,zs) for a given zs ###\n",
    "    ### Outer Loop: For each source redshift zs, we want to find the total lensing cross-section at zs ###\n",
    "    cross_sec = np.array([np.sum(np.asarray([(8*np.pi**3*G**2*c**-4)*dlnm(m)*((mu_gw(j)**2+1)/(mu_gw(j)**2-1)**2)*dndlnm(m,i)*cosmo.differential_comoving_volume(i)*(m/R_200c(m=m,zl=i)*(cosmo.angular_diameter_distance_z1z2(i,j)/cosmo.angular_diameter_distance(j)))**2\\\n",
    "                       for i in np.linspace(0,j,len(zs))])) for j in zs])\n",
    "    \n",
    "    return cross_sec  "
   ]
  },
  {
   "cell_type": "code",
   "execution_count": 25,
   "metadata": {},
   "outputs": [],
   "source": [
    "mu_z = mu_gw(np.linspace(0.15,1.1,50))"
   ]
  },
  {
   "cell_type": "code",
   "execution_count": 26,
   "metadata": {},
   "outputs": [],
   "source": [
    "cross_sec_mu = cs_mu(m,zs=np.linspace(0.15,1.1,50))"
   ]
  },
  {
   "cell_type": "code",
   "execution_count": 27,
   "metadata": {},
   "outputs": [
    {
     "data": {
      "image/png": "[encoded data removed]",
      "text/plain": [
       "<Figure size 432x288 with 1 Axes>"
      ]
     },
     "metadata": {},
     "output_type": "display_data"
    }
   ],
   "source": [
    "plt.plot(mu_z, cross_sec_mu)\n",
    "plt.yscale(\"log\")\n",
    "#plt.xscale(\"log\")\n",
    "plt.title(r\"Total Lensing Cross-section VS magnification $\\mu_{GW}$\")\n",
    "plt.ylabel(r\"Total Lensing Cross-section\")\n",
    "plt.xlabel(r\" Magnification $\\mu_{GW}$\")\n",
    "plt.savefig(\"cross_sec_vs_mu.pdf\")"
   ]
  },
  {
   "cell_type": "code",
   "execution_count": null,
   "metadata": {},
   "outputs": [],
   "source": []
  }
 ],
 "metadata": {
  "kernelspec": {
   "display_name": "Python 3",
   "language": "python",
   "name": "python3"
  },
  "language_info": {
   "codemirror_mode": {
    "name": "ipython",
    "version": 3
   },
   "file_extension": ".py",
   "mimetype": "text/x-python",
   "name": "python",
   "nbconvert_exporter": "python",
   "pygments_lexer": "ipython3",
   "version": "3.7.3"
  }
 },
 "nbformat": 4,
 "nbformat_minor": 4
}
