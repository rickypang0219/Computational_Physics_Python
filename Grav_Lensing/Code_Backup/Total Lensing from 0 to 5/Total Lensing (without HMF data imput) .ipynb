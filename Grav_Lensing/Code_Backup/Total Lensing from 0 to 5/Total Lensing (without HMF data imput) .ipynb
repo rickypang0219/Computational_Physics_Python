{
 "cells": [
  {
   "cell_type": "code",
   "execution_count": 33,
   "metadata": {},
   "outputs": [],
   "source": [
    "%matplotlib inline \n",
    "import numpy as np\n",
    "import pandas as pd \n",
    "import scipy as sp\n",
    "import matplotlib.pyplot as plt \n",
    "import seaborn as sns \n",
    "import colossus\n",
    "sns.set_style(\"darkgrid\")"
   ]
  },
  {
   "cell_type": "markdown",
   "metadata": {},
   "source": [
    "# HMF Data"
   ]
  },
  {
   "cell_type": "code",
   "execution_count": 34,
   "metadata": {},
   "outputs": [],
   "source": [
    "hmf_00= pd.read_csv(\"tinker_08_z_00.txt\",skiprows=range(12), sep=' ',\n",
    "            names=['m', 'sigma', 'ln(1/sigma)', 'n_eff', 'f(sigma)', 'dn/dm', 'dn/dlnm', 'dn/dlog10m', 'n(>m)',\n",
    "                   'rho(>m)', 'rho(<m)', 'Lbox(N=1)'])\n",
    "#hmf_00"
   ]
  },
  {
   "cell_type": "code",
   "execution_count": 35,
   "metadata": {},
   "outputs": [],
   "source": [
    "m = hmf_00[\"m\"]"
   ]
  },
  {
   "cell_type": "code",
   "execution_count": 36,
   "metadata": {},
   "outputs": [
    {
     "data": {
      "text/plain": [
       "0     1.000000e+10\n",
       "1     1.122018e+10\n",
       "2     1.258925e+10\n",
       "3     1.412538e+10\n",
       "4     1.584893e+10\n",
       "          ...     \n",
       "95    5.623413e+14\n",
       "96    6.309573e+14\n",
       "97    7.079458e+14\n",
       "98    7.943282e+14\n",
       "99    8.912509e+14\n",
       "Name: m, Length: 100, dtype: float64"
      ]
     },
     "execution_count": 36,
     "metadata": {},
     "output_type": "execute_result"
    }
   ],
   "source": [
    "m"
   ]
  },
  {
   "cell_type": "markdown",
   "metadata": {},
   "source": [
    "# Colossus: Generating Halo Mass Function for Different Redshift"
   ]
  },
  {
   "cell_type": "code",
   "execution_count": 37,
   "metadata": {},
   "outputs": [],
   "source": [
    "from colossus.cosmology import cosmology\n",
    "from colossus.lss import mass_function\n",
    "\n",
    "cosmology.setCosmology('planck18')\n",
    "mfunc_fof = mass_function.massFunction(m,z =0.0 , q_in= \"M\", q_out=\"dndlnM\", mdef='vir', model = 'tinker08')\n"
   ]
  },
  {
   "cell_type": "markdown",
   "metadata": {},
   "source": [
    "# Total Lensing Cross-section\n",
    "The total lensing cross-section is the sum of number of available lens in at redshift z and its lensing cross-section of it. Therefore, from the Halo Mass function, we can calculate the comoving number density of haloes and mass distribution of haloes at certain redshift $z_{L}$. \n",
    "\n",
    "Recall the the lensing cross-section is defined as: \n",
    "\\begin{equation}\n",
    "\\begin{split}\n",
    "\\sigma^{S}(> \\mu_{0} = 10) &= 2 \\pi  \\theta_{E}^{2} \\frac{(\\mu_{0}^{2}+1)}{(\\mu_{0}^{2} -1)^{2}} \\\\\n",
    "&= \\frac{8 \\pi^{3} G^{2}}{c^{4}} \\frac{(\\mu_{0}^{2} + 1)}{(\\mu_{0}^{2} -1 )^{2}} \\Big( \\frac{M}{r_{200}} \\Big)^{2}  \n",
    "\\Big( \\frac{d_{A}(z_{L},z_{S})}{d_{A}(Z_{s})} \\Big)^{2}\n",
    "\\end{split}\n",
    "\\end{equation}\n",
    "\n",
    "Then, the total cross-section per unit volume will be \n",
    "\n",
    "\\begin{equation}\n",
    "\\sigma^{S}_{total} = \\sum_{i} \\frac{dn(M_{i},z)}{d \\ln M_{i}} \\sigma^{S}(M_{i},z) * \\Delta \\ln M_{i} \n",
    "\\end{equation}\n",
    "\n",
    "As the lensing and total lensing cross-section involve the maginification, in this case we assume the thershold of magnificarion is $\\mu_{0} > 10$. The magnification of gravitational waves is given by its luminosity distance from distant places and the place we observed it ( in this case we choose $z_{obs}$ = 0.15). Hence, we can obtain the relation of $\\mu_{GW}$ as follows:\n",
    "\n",
    "\\begin{equation}\n",
    "\\mu_{GW}(z)=  \\Big( \\frac{d_{L}(z)}{d_{L, \\mu = 1(z_{obs} = 0.15)}} \\Big)^{2}\n",
    "\\end{equation}\n",
    "\n",
    "For instance, in order to reinterpret a source initially identified at $z \\approx 0.1 $ as actually being at $z=1$ we requires\n",
    "the maginification of g-waves $\\mu_{GW} = 200$ ; To reinterpret sources initially identified at $z \\approx 0.2$ as actually being at $z=1$ requires $\\mu_{GW}$ ≃ 45.\n",
    "As the total lensing cross section falls like $ \\sigma_{tot} \\propto \\frac{1}{\\mu^{4}}$, we can approximate it as follow: \n",
    "\n",
    "\\begin{equation}\n",
    "\\sigma^{S}_{total} =  \\frac{8 \\pi^{3} G^{2}}{\\mu_{GW}(z)^{2} c^{4}} \\frac{(\\mu_{GW}^{2}+1)}{(\\mu_{GW}^{2} -1)^{2}} \\sum_{i} \\frac{dn(M_{i},z_{L})}{d \\ln{M_{i}}} * \\Delta \\ln{M_{i}} \\Big( \\frac{M(z_{L})}{r_{200}} \\Big)^{2}\\Big( \\frac{d_{A}(z_{L},z_{S})}{d_{A}(z_{s})} \\Big)^{2}\n",
    "\\end{equation}\n",
    "\n",
    "Therefore, without any calculation, we should expect that the lensing cross section suffers from a large suppresion when the maginification $\\mu_{GW}$ is larger. That means we are less likely to observe gravitational waves from high redshift region as its required $\\mu_{GW}$ is very big. \n",
    "\n",
    "\\begin{equation}\n",
    "\\sigma^{S}_{total}(\\mu_{GW},z_{S}) =  \\frac{8 \\pi^{3} G^{2}}{c^{4}}\\frac{(\\mu_{GW}(z_{S})^{2}+1)}{(\\mu_{GW}(z_{S})^{2} -1)^{2}} \\int^{z_{S}}_{0} \\int_{\\Omega_{M}} \\frac{dn(M,z_{L})}{d \\ln{M}} \\Big( \\frac{M}{r_{200}} \\Big)^{2}\\Big( \\frac{d_{A}(z_{L},z_{S})}{d_{A}(z_{s})} \\Big)^{2} d\\ln{M} dV(z_{L})\n",
    "\\end{equation}\n",
    "\n"
   ]
  },
  {
   "cell_type": "code",
   "execution_count": 38,
   "metadata": {},
   "outputs": [],
   "source": [
    "# Astropy testing total lensing cross section \n",
    "import astropy \n",
    "from astropy.constants import c, G\n",
    "from astropy.cosmology import FlatLambdaCDM\n",
    "import astropy.units as u\n",
    "cosmo = FlatLambdaCDM(H0=70*u.km/u.s/u.Mpc, Om0=0.3)\n",
    "H_0 = cosmo.H(0)\n",
    "from colossus.halo import mass_so\n",
    "\n",
    "def Hubble(z): \n",
    "    return H_0*np.sqrt(0.3*(1+z)**3 + 0.7)\n",
    "\n",
    "#Assume Virial mass\n",
    "def r_200(m,zl): \n",
    "    return (m*G/(100*Hubble(zl)**2))**(1/3)\n",
    "\n",
    "### COLOSSUS R_200c \n",
    "def R_200c(m,zl):\n",
    "    #return np.array([mass_so.M_to_R(m, i, '200c') for i in zs])\n",
    "    return mass_so.M_to_R(m, zl, '200c')\n",
    "\n",
    "# Differential Mass\n",
    "def dlnm(m):\n",
    "    # Change 0 into last position inside array\n",
    "    dM = np.append(np.array([np.log(m[i+1])-np.log(m[i]) for i in range(0,len(m)-1)]), np.array([np.log(m[11])-np.log(m[10])]))\n",
    "    return dM\n",
    "\n",
    "# Comoving Number density of Haloes per ln(Haloes Mass)\n",
    "def dndlnm(m,zl):\n",
    "    mfunc_fof = mass_function.massFunction(m,z =zl , q_in= \"M\", q_out=\"dndlnM\", mdef='200c', model = 'tinker08')\n",
    "    return mfunc_fof\n",
    "\n",
    "\n",
    "\n",
    "# total lensing cross secion (in dn/dlnm unit)\n",
    "def total_cross_sec(m,zl,zs):\n",
    "    # 2 for loops: \n",
    "    \n",
    "    ### We need to add a if statement that z_{L} < z_{S}\n",
    "    ### for a source in Z_{s}, the available lenses are in z_{L} < z_{S}, thus, we sum over the z_{l} from 0 to z_{S}\n",
    "    # For a particular lens redshift, we sum over all the contribution of these lenses\n",
    "    cross_sec = np.array([np.sum(np.asarray([(8*np.pi**3*G**2*c**-4)*dlnm(m)*dndlnm(m,i)*(m/r_200(m=m,zl=i)*cosmo.comoving_volume(i)*(cosmo.angular_diameter_distance_z1z2(i,j)/cosmo.angular_diameter_distance(j)))**2\\\n",
    "                       for i in zl])) for j in zs])\n",
    "    return cross_sec\n",
    "\n"
   ]
  },
  {
   "cell_type": "code",
   "execution_count": 39,
   "metadata": {},
   "outputs": [
    {
     "data": {
      "text/plain": [
       "0     0.007602\n",
       "1     0.007900\n",
       "2     0.008209\n",
       "3     0.008530\n",
       "4     0.008864\n",
       "        ...   \n",
       "95    0.291261\n",
       "96    0.302656\n",
       "97    0.314497\n",
       "98    0.326800\n",
       "99    0.339586\n",
       "Name: m, Length: 100, dtype: float64"
      ]
     },
     "execution_count": 39,
     "metadata": {},
     "output_type": "execute_result"
    }
   ],
   "source": [
    "r_200(m,1)"
   ]
  },
  {
   "cell_type": "markdown",
   "metadata": {},
   "source": [
    "# Theory of Gravitational Lensing \n",
    "The total lensing cross-section is the sum of number of available lens in at redshift z and its lensing cross-section of it. Therefore, from the Halo Mass function, we can calculate the comoving number density $n(z_{L},M)$ of haloes and mass distribution of haloes at certain redshift $z_{L}$. \n",
    "\n",
    "Recall the the lensing cross-section is defined as: \n",
    "\\begin{equation}\n",
    "\\begin{split}\n",
    "\\sigma^{S}(> \\mu_{0} = 10) &= 2 \\pi  \\theta_{E}^{2} \\frac{(\\mu_{0}^{2}+1)}{(\\mu_{0}^{2} -1)^{2}} \\\\\n",
    "&= \\frac{8 \\pi^{3} G^{2}}{c^{4}} \\frac{(\\mu_{0}^{2} + 1)}{(\\mu_{0}^{2} -1 )^{2}} \\Big( \\frac{M}{r_{200}} \\Big)^{2}  \n",
    "\\Big( \\frac{d_{A}(z_{L},z_{S})}{d_{A}(Z_{s})} \\Big)^{2}\n",
    "\\end{split}\n",
    "\\end{equation}\n",
    "\n",
    "Then, the total cross-section per unit volume will be \n",
    "\n",
    "\\begin{equation}\n",
    "\\sigma^{S}_{total} = \\int^{z_{S}}_{0}\\int \\frac{dn(M,z)}{d \\ln M} \\sigma^{S}(M,z) d\\ln M dV_{com} dz_{L}\n",
    "\\end{equation}\n"
   ]
  },
  {
   "cell_type": "code",
   "execution_count": 40,
   "metadata": {},
   "outputs": [],
   "source": [
    "### Total Cross-section: integrate all the available lenses \n",
    "\n",
    "def cs(m,zs): \n",
    "    ### USE R_200C instead of virial mass r_200\n",
    "    ### Inner Loop: we integrate the total lens contribution in range zl \\in (0,zs) for a given zs ###\n",
    "    ### Outer Loop: For each source redshift zs, we want to find the total lensing cross-section at zs ###\n",
    "    cross_sec = np.array([np.sum(np.asarray([(8*np.pi**3*G**2*c**-4)*dlnm(m)*dndlnm(m,i)*(m/r_200(m=m,zl=i)*cosmo.differential_comoving_volume(i)*(cosmo.angular_diameter_distance_z1z2(i,j)/cosmo.angular_diameter_distance(j)))**2\\\n",
    "                       for i in np.linspace(0,j,len(zs))])) for j in zs])\n",
    "    \n",
    "    return cross_sec \n",
    "                                   \n",
    "                \n",
    "                "
   ]
  },
  {
   "cell_type": "code",
   "execution_count": 41,
   "metadata": {},
   "outputs": [],
   "source": [
    "# Gws source range z_{S} = 0.01 ~ 5 since z_{L} < z_{S}\n",
    "zs = np.linspace(0.001,10,50)\n",
    "\n",
    "# range of lens redshift z_{L}\n",
    "#zl = np.linspace(0,10,50)"
   ]
  },
  {
   "cell_type": "code",
   "execution_count": 42,
   "metadata": {},
   "outputs": [],
   "source": [
    "cross_sec = cs(m,zs)"
   ]
  },
  {
   "cell_type": "code",
   "execution_count": 43,
   "metadata": {},
   "outputs": [
    {
     "data": {
      "image/png": "[encoded data removed]",
      "text/plain": [
       "<Figure size 432x288 with 1 Axes>"
      ]
     },
     "metadata": {},
     "output_type": "display_data"
    }
   ],
   "source": [
    "plt.plot(zs,cross_sec)\n",
    "plt.title(r\"Total Lensing Cross-section vs Source Redshift $z_{S}$ \")\n",
    "plt.ylabel(r\" Total Lensing Cross-section/ $(\\mu_{0}^{2}-1)^{2}/(\\mu_{0}^{2} + 1)$\")\n",
    "plt.xlabel(r\" Source Redshift $z_{S}$\")\n",
    "plt.savefig(\"lensing.pdf\")\n",
    "#plt.yscale(\"log\")"
   ]
  },
  {
   "cell_type": "code",
   "execution_count": 44,
   "metadata": {},
   "outputs": [],
   "source": [
    "cross_sec_data = pd.DataFrame({\"zs\":zs, \"sigma\":cross_sec})"
   ]
  },
  {
   "cell_type": "code",
   "execution_count": 45,
   "metadata": {},
   "outputs": [
    {
     "data": {
      "text/html": [
       "<div>\n",
       "<style scoped>\n",
       "    .dataframe tbody tr th:only-of-type {\n",
       "        vertical-align: middle;\n",
       "    }\n",
       "\n",
       "    .dataframe tbody tr th {\n",
       "        vertical-align: top;\n",
       "    }\n",
       "\n",
       "    .dataframe thead th {\n",
       "        text-align: right;\n",
       "    }\n",
       "</style>\n",
       "<table border=\"1\" class=\"dataframe\">\n",
       "  <thead>\n",
       "    <tr style=\"text-align: right;\">\n",
       "      <th></th>\n",
       "      <th>zs</th>\n",
       "      <th>sigma</th>\n",
       "    </tr>\n",
       "  </thead>\n",
       "  <tbody>\n",
       "    <tr>\n",
       "      <th>26</th>\n",
       "      <td>5.306592</td>\n",
       "      <td>0.000013</td>\n",
       "    </tr>\n",
       "  </tbody>\n",
       "</table>\n",
       "</div>"
      ],
      "text/plain": [
       "          zs     sigma\n",
       "26  5.306592  0.000013"
      ]
     },
     "execution_count": 45,
     "metadata": {},
     "output_type": "execute_result"
    }
   ],
   "source": [
    "cross_sec_data[cross_sec_data[\"sigma\"] == np.max(cross_sec_data[\"sigma\"])]"
   ]
  },
  {
   "cell_type": "code",
   "execution_count": 46,
   "metadata": {},
   "outputs": [],
   "source": [
    "#total_cross_sec(m,zl,zs)\n",
    "\n",
    "### z_{L} = 0 have bug ??? ###"
   ]
  },
  {
   "cell_type": "code",
   "execution_count": 47,
   "metadata": {},
   "outputs": [],
   "source": [
    "#plt.plot(zs,total_cross_sec(m,zl,zs))\n",
    "#plt.yscale(\"log\")\n",
    "#plt.title(\" Total Lensing Cross section vs source redshift\")\n",
    "#plt.savefig(\"lensing.pdf\")"
   ]
  },
  {
   "cell_type": "code",
   "execution_count": 48,
   "metadata": {},
   "outputs": [
    {
     "data": {
      "text/plain": [
       "<matplotlib.legend.Legend at 0x120931ac8>"
      ]
     },
     "execution_count": 48,
     "metadata": {},
     "output_type": "execute_result"
    },
    {
     "data": {
      "image/png": "[encoded data removed]",
      "text/plain": [
       "<Figure size 432x288 with 1 Axes>"
      ]
     },
     "metadata": {},
     "output_type": "display_data"
    }
   ],
   "source": [
    "plt.plot(zs, cosmo.differential_comoving_volume(zs), label=\"dV(z)\")\n",
    "plt.plot(zs, cosmo.comoving_volume(zs), label=\"V(z)\")\n",
    "plt.yscale(\"log\")\n",
    "plt.legend()"
   ]
  },
  {
   "cell_type": "markdown",
   "metadata": {},
   "source": [
    "# Einstein Radius \n",
    "\n",
    "\\begin{equation}\n",
    "\\Sigma_{crit} = \\frac{c^{2}}{4 \\pi G} \\frac{d_{A}(z_{S})}{d_{A}(z_{L},z_{S}) d_{A}(z_{L})}\n",
    "\\end{equation}\n",
    "\n",
    "\\begin{equation}\n",
    "\\begin{split}\n",
    "\\theta_{E} &= \\frac{1}{2 \\Sigma_{crit} d_{A}(z_{L})} \\Big(\\frac{M}{r_{200}} \\Big) \\\\\n",
    "           &= \\frac{2 \\pi G}{c^{2}} \\frac{d_{A}(z_{L},z_{S})}{d_{A}(z_{S})} \\frac{M}{r_{200}}\n",
    "\\end{split}\n",
    "\\end{equation}\n",
    "\n",
    "\n",
    "\n"
   ]
  },
  {
   "cell_type": "code",
   "execution_count": 49,
   "metadata": {},
   "outputs": [],
   "source": [
    "# Maginification of Gravotational waves \n",
    "def mu_gw(zs):\n",
    "    # zs > 0.3 by computation\n",
    "    return (cosmo.luminosity_distance(zs)/cosmo.luminosity_distance(0.1))**2 "
   ]
  },
  {
   "cell_type": "code",
   "execution_count": 50,
   "metadata": {},
   "outputs": [
    {
     "data": {
      "text/latex": [
       "$[8.6703405 \\times 10^{-5},~4.7939785,~23.487812,~62.006921,~125.23736,~217.09725,~340.73384,~498.71609,~693.18511,~925.96244,~1198.6262,~1512.5649,~1869.0152,~2269.0906,~2713.8019,~3204.0734,~3740.7553,~4324.6338,~4956.4389,~5636.8514,~6366.5081,~7146.0067,~7975.9096,~8856.7473,~9789.0215,~10773.208,~11809.757,~12899.099,~14041.642,~15237.777,~16487.876,~17792.296,~19151.379,~20565.452,~22034.831,~23559.817,~25140.703,~26777.768,~28471.283,~30221.509,~32028.698,~33893.093,~35814.93,~37794.437,~39831.835,~41927.337,~44081.152,~46293.481,~48564.52,~50894.458] \\; \\mathrm{}$"
      ],
      "text/plain": [
       "<Quantity [8.67034052e-05, 4.79397851e+00, 2.34878119e+01, 6.20069207e+01,\n",
       "           1.25237361e+02, 2.17097248e+02, 3.40733836e+02, 4.98716091e+02,\n",
       "           6.93185107e+02, 9.25962441e+02, 1.19862624e+03, 1.51256486e+03,\n",
       "           1.86901518e+03, 2.26909057e+03, 2.71380189e+03, 3.20407340e+03,\n",
       "           3.74075532e+03, 4.32463380e+03, 4.95643893e+03, 5.63685142e+03,\n",
       "           6.36650814e+03, 7.14600672e+03, 7.97590957e+03, 8.85674726e+03,\n",
       "           9.78902150e+03, 1.07732077e+04, 1.18097570e+04, 1.28990989e+04,\n",
       "           1.40416421e+04, 1.52377768e+04, 1.64878758e+04, 1.77922958e+04,\n",
       "           1.91513786e+04, 2.05654520e+04, 2.20348306e+04, 2.35598171e+04,\n",
       "           2.51407027e+04, 2.67777679e+04, 2.84712829e+04, 3.02215089e+04,\n",
       "           3.20286976e+04, 3.38930928e+04, 3.58149298e+04, 3.77944368e+04,\n",
       "           3.98318346e+04, 4.19273373e+04, 4.40811524e+04, 4.62934815e+04,\n",
       "           4.85645201e+04, 5.08944584e+04]>"
      ]
     },
     "execution_count": 50,
     "metadata": {},
     "output_type": "execute_result"
    }
   ],
   "source": [
    "mu_gw(zs)"
   ]
  },
  {
   "cell_type": "code",
   "execution_count": 51,
   "metadata": {},
   "outputs": [],
   "source": [
    "### cross-section where mu_{GW} is not a constant, it is a function depending on z_{S}\n",
    "def cs_mu(m,zs): \n",
    "    ### What is the differences of using dV and V ???? \n",
    "    ### Inner Loop: we integrate the total lens contribution in range zl \\in (0,zs) for a given zs ###\n",
    "    ### Outer Loop: For each source redshift zs, we want to find the total lensing cross-section at zs ###\n",
    "    cross_sec = np.array([np.sum(np.asarray([(8*np.pi**3*G**2*c**-4)*dlnm(m)*((mu_gw(j)**2+1)/(mu_gw(j)**2-1)**2)*dndlnm(m,i)*(m/r_200(m=m,zl=i)*cosmo.comoving_volume(i)*(cosmo.angular_diameter_distance_z1z2(i,j)/cosmo.angular_diameter_distance(j)))**2\\\n",
    "                       for i in np.linspace(0,j,len(zs))])) for j in zs])\n",
    "    \n",
    "    return cross_sec  "
   ]
  },
  {
   "cell_type": "code",
   "execution_count": 52,
   "metadata": {},
   "outputs": [],
   "source": [
    "cross_sec_mu = cs_mu(m,zs=np.linspace(0.001,0.8,50))"
   ]
  },
  {
   "cell_type": "code",
   "execution_count": 53,
   "metadata": {},
   "outputs": [
    {
     "data": {
      "text/plain": [
       "array([7.66229457e-23, 2.01606998e-15, 1.08873143e-13, 1.30328021e-12,\n",
       "       1.02283571e-11, 1.01018228e-10, 5.18600210e-08, 6.35354293e-10,\n",
       "       2.83153593e-10, 2.19721798e-10, 2.04539194e-10, 2.05357051e-10,\n",
       "       2.13243816e-10, 2.24643698e-10, 2.37908052e-10, 2.52094941e-10,\n",
       "       2.66675547e-10, 2.81219069e-10, 2.95543718e-10, 3.09445991e-10,\n",
       "       3.22835986e-10, 3.35640738e-10, 3.47859380e-10, 3.59379552e-10,\n",
       "       3.70303706e-10, 3.80484265e-10, 3.90048689e-10, 3.98825894e-10,\n",
       "       4.07010926e-10, 4.14601445e-10, 4.21519782e-10, 4.27775825e-10,\n",
       "       4.33386869e-10, 4.38459658e-10, 4.42899065e-10, 4.46874618e-10,\n",
       "       4.50281360e-10, 4.53228519e-10, 4.55652239e-10, 4.57623202e-10,\n",
       "       4.59142676e-10, 4.60230419e-10, 4.60957140e-10, 4.61276656e-10,\n",
       "       4.61324238e-10, 4.61025566e-10, 4.60378838e-10, 4.59564178e-10,\n",
       "       4.58369103e-10, 4.56977154e-10])"
      ]
     },
     "execution_count": 53,
     "metadata": {},
     "output_type": "execute_result"
    }
   ],
   "source": [
    "cross_sec_mu"
   ]
  },
  {
   "cell_type": "code",
   "execution_count": 54,
   "metadata": {},
   "outputs": [],
   "source": [
    "mu_z = mu_gw(zs=np.linspace(0.001,0.8,50))"
   ]
  },
  {
   "cell_type": "code",
   "execution_count": 55,
   "metadata": {},
   "outputs": [],
   "source": [
    "#mu_z"
   ]
  },
  {
   "cell_type": "code",
   "execution_count": 56,
   "metadata": {},
   "outputs": [
    {
     "data": {
      "image/png": "[encoded data removed]",
      "text/plain": [
       "<Figure size 432x288 with 1 Axes>"
      ]
     },
     "metadata": {},
     "output_type": "display_data"
    }
   ],
   "source": [
    "plt.plot(np.linspace(0.001,10,50),cs_mu(m,zs= np.linspace(0.001,10,50)))\n",
    "plt.title(\"Total Lensing Cross-section with $\\mu_{GW}$ VS Source Redshift $z_{S}$\")\n",
    "plt.xlabel(r\"Source Redshift $z_{S}$\")\n",
    "plt.ylabel(r\"Total Lensing Cross-section\")\n",
    "plt.yscale(\"log\")"
   ]
  },
  {
   "cell_type": "code",
   "execution_count": 57,
   "metadata": {},
   "outputs": [],
   "source": [
    "cross_sec_mu_data = pd.DataFrame({\"zs\":np.linspace(0.001,10,50), \"sigma\":cs_mu(m,zs= np.linspace(0.001,10,50))})"
   ]
  },
  {
   "cell_type": "code",
   "execution_count": 58,
   "metadata": {},
   "outputs": [
    {
     "data": {
      "text/html": [
       "<div>\n",
       "<style scoped>\n",
       "    .dataframe tbody tr th:only-of-type {\n",
       "        vertical-align: middle;\n",
       "    }\n",
       "\n",
       "    .dataframe tbody tr th {\n",
       "        vertical-align: top;\n",
       "    }\n",
       "\n",
       "    .dataframe thead th {\n",
       "        text-align: right;\n",
       "    }\n",
       "</style>\n",
       "<table border=\"1\" class=\"dataframe\">\n",
       "  <thead>\n",
       "    <tr style=\"text-align: right;\">\n",
       "      <th></th>\n",
       "      <th>zs</th>\n",
       "      <th>sigma</th>\n",
       "    </tr>\n",
       "  </thead>\n",
       "  <tbody>\n",
       "    <tr>\n",
       "      <th>4</th>\n",
       "      <td>0.817245</td>\n",
       "      <td>4.552311e-10</td>\n",
       "    </tr>\n",
       "  </tbody>\n",
       "</table>\n",
       "</div>"
      ],
      "text/plain": [
       "         zs         sigma\n",
       "4  0.817245  4.552311e-10"
      ]
     },
     "execution_count": 58,
     "metadata": {},
     "output_type": "execute_result"
    }
   ],
   "source": [
    "cross_sec_mu_data[cross_sec_mu_data[\"sigma\"]==np.max(cross_sec_mu_data[\"sigma\"])]"
   ]
  },
  {
   "cell_type": "code",
   "execution_count": 67,
   "metadata": {},
   "outputs": [
    {
     "data": {
      "text/plain": [
       "Text(0.5, 0, ' Magnification $\\\\mu_{GW}$')"
      ]
     },
     "execution_count": 67,
     "metadata": {},
     "output_type": "execute_result"
    },
    {
     "data": {
      "image/png": "[encoded data removed]",
      "text/plain": [
       "<Figure size 432x288 with 1 Axes>"
      ]
     },
     "metadata": {},
     "output_type": "display_data"
    }
   ],
   "source": [
    "plt.plot(mu_z, cross_sec_mu)\n",
    "plt.yscale(\"log\")\n",
    "#plt.xscale(\"log\")\n",
    "plt.title(r\"Total Lensing Cross-section VS magnification $\\mu_{GW}$\")\n",
    "plt.ylabel(r\"Total Lensing Cross-section\")\n",
    "plt.xlabel(r\" Magnification $\\mu_{GW}$\")\n"
   ]
  },
  {
   "cell_type": "code",
   "execution_count": 60,
   "metadata": {},
   "outputs": [
    {
     "data": {
      "text/html": [
       "<div>\n",
       "<style scoped>\n",
       "    .dataframe tbody tr th:only-of-type {\n",
       "        vertical-align: middle;\n",
       "    }\n",
       "\n",
       "    .dataframe tbody tr th {\n",
       "        vertical-align: top;\n",
       "    }\n",
       "\n",
       "    .dataframe thead th {\n",
       "        text-align: right;\n",
       "    }\n",
       "</style>\n",
       "<table border=\"1\" class=\"dataframe\">\n",
       "  <thead>\n",
       "    <tr style=\"text-align: right;\">\n",
       "      <th></th>\n",
       "      <th>mu</th>\n",
       "      <th>sigma</th>\n",
       "    </tr>\n",
       "  </thead>\n",
       "  <tbody>\n",
       "    <tr>\n",
       "      <th>6</th>\n",
       "      <td>0.975346</td>\n",
       "      <td>5.186002e-08</td>\n",
       "    </tr>\n",
       "  </tbody>\n",
       "</table>\n",
       "</div>"
      ],
      "text/plain": [
       "         mu         sigma\n",
       "6  0.975346  5.186002e-08"
      ]
     },
     "execution_count": 60,
     "metadata": {},
     "output_type": "execute_result"
    }
   ],
   "source": [
    "cs_vs_mu_data = pd.DataFrame({\"mu\":mu_z, \"sigma\":cross_sec_mu})\n",
    "cs_vs_mu_data[cs_vs_mu_data[\"sigma\"]==np.max(cs_vs_mu_data[\"sigma\"])]"
   ]
  },
  {
   "cell_type": "code",
   "execution_count": 61,
   "metadata": {},
   "outputs": [
    {
     "data": {
      "image/png": "[encoded data removed]",
      "text/plain": [
       "<Figure size 432x288 with 1 Axes>"
      ]
     },
     "metadata": {},
     "output_type": "display_data"
    }
   ],
   "source": [
    "z = np.linspace(0,0.8,1000)\n",
    "plt.plot(z, (mu_gw(z)**2+1)/(mu_gw(z)**2-1)**2)\n",
    "plt.yscale(\"log\")\n"
   ]
  },
  {
   "cell_type": "code",
   "execution_count": 62,
   "metadata": {},
   "outputs": [
    {
     "data": {
      "text/latex": [
       "$116.43222 \\; \\mathrm{Mpc^{3}}$"
      ],
      "text/plain": [
       "<Quantity 116.43222382 Mpc3>"
      ]
     },
     "execution_count": 62,
     "metadata": {},
     "output_type": "execute_result"
    }
   ],
   "source": [
    "cosmo.comoving_volume(2)*0.2/1E9"
   ]
  },
  {
   "cell_type": "code",
   "execution_count": null,
   "metadata": {},
   "outputs": [],
   "source": []
  }
 ],
 "metadata": {
  "kernelspec": {
   "display_name": "Python 3",
   "language": "python",
   "name": "python3"
  },
  "language_info": {
   "codemirror_mode": {
    "name": "ipython",
    "version": 3
   },
   "file_extension": ".py",
   "mimetype": "text/x-python",
   "name": "python",
   "nbconvert_exporter": "python",
   "pygments_lexer": "ipython3",
   "version": "3.7.3"
  }
 },
 "nbformat": 4,
 "nbformat_minor": 4
}
